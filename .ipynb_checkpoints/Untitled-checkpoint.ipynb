{
 "cells": [
  {
   "cell_type": "code",
   "execution_count": 2,
   "id": "7aa9ba99",
   "metadata": {},
   "outputs": [],
   "source": [
    "from bs4 import BeautifulSoup\n",
    "import requests\n",
    "import pandas as pd\n",
    "import re\n",
    "import random\n",
    "#from pandas.io.json import json_normalize\n",
    "import numpy as np\n",
    "import matplotlib.pyplot as plt\n",
    "from sklearn.preprocessing import StandardScaler\n",
    "import numpy as np\n",
    "from sklearn.metrics import silhouette_score\n",
    "from sklearn.model_selection import train_test_split\n",
    "from sklearn.decomposition import PCA    \n",
    "import matplotlib.pyplot as plt\n",
    "from sklearn.cluster import KMeans\n",
    "import spotipy\n",
    "from spotipy.oauth2 import SpotifyClientCredentials\n",
    "from sklearn.cluster import KMeans\n",
    "import numpy as np\n",
    "\n",
    "from random import randint\n",
    "from time import sleep"
   ]
  },
  {
   "cell_type": "code",
   "execution_count": 3,
   "id": "ac2d4298",
   "metadata": {},
   "outputs": [],
   "source": [
    "final_p = pd.read_csv('song_recommender_playlist_post-scaling.csv')"
   ]
  },
  {
   "cell_type": "code",
   "execution_count": 4,
   "id": "ec9dda6b",
   "metadata": {},
   "outputs": [],
   "source": [
    "top = pd.read_csv('top.csv')"
   ]
  },
  {
   "cell_type": "code",
   "execution_count": 5,
   "id": "31230a56",
   "metadata": {},
   "outputs": [
    {
     "data": {
      "text/plain": [
       "['cid:dc735e5f93a34ef284c10ceabecd270e',\n",
       " 'csecret:d5b2ce46ac224e3bb0b06504ca5c2c83']"
      ]
     },
     "execution_count": 5,
     "metadata": {},
     "output_type": "execute_result"
    }
   ],
   "source": [
    "secrets_file = open(\"secrets.txt\",\"r\")\n",
    "string = secrets_file.read()\n",
    "string.split('\\n')"
   ]
  },
  {
   "cell_type": "code",
   "execution_count": 6,
   "id": "3565e52d",
   "metadata": {},
   "outputs": [],
   "source": [
    "secrets_dict={}\n",
    "for line in string.split('\\n'):\n",
    "    if len(line) > 0:\n",
    "        secrets_dict[line.split(':')[0]]=line.split(':')[1]"
   ]
  },
  {
   "cell_type": "code",
   "execution_count": 7,
   "id": "40186732",
   "metadata": {},
   "outputs": [],
   "source": [
    "sp = spotipy.Spotify(auth_manager=SpotifyClientCredentials(client_id=secrets_dict['cid'],\n",
    "                                                           client_secret=secrets_dict['csecret']))"
   ]
  },
  {
   "cell_type": "code",
   "execution_count": null,
   "id": "a7797a86",
   "metadata": {},
   "outputs": [],
   "source": [
    "X = final_p.select_dtypes(include=np.number)\n",
    "y = final_p[['song','artist']]\n",
    "\n",
    "X_prep = StandardScaler().fit_transform(X)\n",
    "\n",
    "kmeans = KMeans(n_clusters=5000, random_state=1234)\n",
    "kmeans.fit(X_prep)\n",
    "\n"
   ]
  },
  {
   "cell_type": "code",
   "execution_count": null,
   "id": "f9f7a8a7",
   "metadata": {},
   "outputs": [],
   "source": [
    "X_prep"
   ]
  },
  {
   "cell_type": "code",
   "execution_count": 11,
   "id": "36b0a78d",
   "metadata": {},
   "outputs": [],
   "source": [
    "######Test To Work In Notebook######\n",
    "\n",
    "def songrecommend():\n",
    "    artist = input('Who is the artist: ')\n",
    "    song = input('Give Me A Song: ')\n",
    "\n",
    "\n",
    "\n",
    "    #come back and look through artists to loop and find all songs\n",
    "    results = sp.search(q=song, type='track', limit=50)\n",
    "\n",
    "    #print(results['tracks']['items'][0]['name'])\n",
    "    counter = 0\n",
    "    t = 0\n",
    "    for i in results[\"tracks\"]['items'][counter]:\n",
    "        if song in list(top['track']):\n",
    "            if artist in list(top['artist']):\n",
    "                print(\"HOT HOT HOT!!\")\n",
    "                t += 1\n",
    "                break\n",
    "        elif artist in results[\"tracks\"]['items'][counter]['album']['artists'][0]['name']:\n",
    "\n",
    "            s = results[\"tracks\"]['items'][counter]['name']\n",
    "            #print(results[\"tracks\"]['items'][counter]['name'])\n",
    "            a = results[\"tracks\"]['items'][counter]['album']['artists'][0]['name']\n",
    "            #print(results[\"tracks\"]['items'][counter]['album']['artists'][0]['name'])\n",
    "            f = (sp.audio_features(results[\"tracks\"]['items'][counter]['uri']))\n",
    "\n",
    "            df = pd.DataFrame({'artist': a, 'song': s, 'features': f})                 \n",
    "            dffeat = pd.json_normalize(df['features'])\n",
    "            dffeat = dffeat[['danceability','energy','loudness','speechiness','acousticness','instrumentalness','liveness','valence','tempo']] \n",
    "            #df = df[['artist','song']]\n",
    "            #dffeat = pd.concat([df,dffeat],axis = 1)\n",
    "\n",
    "            cluster = kmeans.predict(dffeat)\n",
    "\n",
    "            #print(cluster)\n",
    "\n",
    "            songrec = final_p[final_p['cluster'] == cluster[0]]\n",
    "\n",
    "            #songrec\n",
    "            ran = random.randint(0,len(songrec))\n",
    "            songs = songrec.iloc[ran]['song']\n",
    "            artists = songrec.iloc[ran]['artist']\n",
    "            print('We Recommend you listen to',songs,'by',artists)\n",
    "            \n",
    "\n",
    "            \n",
    "            t += 1                  \n",
    "            break\n",
    "        else:\n",
    "            pass\n",
    "\n",
    "        counter += 1\n",
    "\n",
    "    if t == 0:\n",
    "        print(\"I'm sorry, we can't find that song\")\n"
   ]
  },
  {
   "cell_type": "code",
   "execution_count": 10,
   "id": "55367340",
   "metadata": {},
   "outputs": [],
   "source": [
    "######Test To Work In Interface######\n",
    "\n",
    "\n",
    "def songrecommend_int(input_song,input_artist):\n",
    "    \n",
    "    artist = input_artist\n",
    "    song = input_song\n",
    "\n",
    "# --------   \n",
    "    \n",
    "    \n",
    "    #come back and look through artists to loop and find all songs\n",
    "    results = sp.search(q=song, type='track', limit=50)\n",
    "\n",
    "    \n",
    "    \n",
    "    #print(results['tracks']['items'][0]['name'])\n",
    "    counter = 0\n",
    "    t = 0\n",
    "    for i in results[\"tracks\"]['items'][counter]:\n",
    "        if song in list(top['track']):\n",
    "            if artist in list(top['artist']):\n",
    "                ron = random.randint(0,200)\n",
    "                songs100 = top.iloc[ron]['track']\n",
    "                artists100 = top.iloc[ron]['artist']\n",
    "                return (\"!!HOT HOT HOT!! We Recommend you listen to\",songs100,\"by\",artists100)\n",
    "                t += 1\n",
    "                break\n",
    "                \n",
    "                \n",
    "                \n",
    "        elif artist in results[\"tracks\"]['items'][counter]['album']['artists'][0]['name']:\n",
    "\n",
    "            s = results[\"tracks\"]['items'][counter]['name']\n",
    "            #print(results[\"tracks\"]['items'][counter]['name'])\n",
    "            a = results[\"tracks\"]['items'][counter]['album']['artists'][0]['name']\n",
    "            #print(results[\"tracks\"]['items'][counter]['album']['artists'][0]['name'])\n",
    "            f = sp.audio_features(results[\"tracks\"]['items'][counter]['uri'])\n",
    "            uri = (results[\"tracks\"]['items'][counter]['uri'])\n",
    "            print(uri)\n",
    "            \n",
    "            df = pd.DataFrame({'artist': a, 'song': s, 'features': f})                 \n",
    "            dffeat = pd.json_normalize(df['features'])\n",
    "            #print(dffeat)\n",
    "            dffeat = dffeat[['danceability','energy','loudness','speechiness','acousticness','instrumentalness','liveness','valence','tempo']] \n",
    "            #display(dffeat)\n",
    "            #df = df[['artist','song']]\n",
    "            #dffeat = pd.concat([df,dffeat],axis = 1)\n",
    "            ## SCALE ##\n",
    "            dffeatscaled = scaler.transform(dffeat)\n",
    "            \n",
    "            cluster = kmeans.predict(dffeatscaled)\n",
    "\n",
    "            print(cluster)\n",
    "\n",
    "            songrec = final_p[final_p['cluster'] == cluster[0]]\n",
    "\n",
    "            display(songrec)\n",
    "            ran = random.randint(0,len(songrec))\n",
    "            songs = songrec.iloc[ran]['song']\n",
    "            artists = songrec.iloc[ran]['artist']\n",
    "            \n",
    "            \n",
    "            \n",
    "#-----------            \n",
    "            return (recommendation_result_song.config(text=f\"{songs}\"))\n",
    "                    #, recommendation_result_artists.config(text=f\"{artists}\"))\n",
    "    \n",
    "            \n",
    "            #print('We Recommend you listen to',songs,'by',artists)\n",
    "            \n",
    "\n",
    "            \n",
    "            t += 1                  \n",
    "            break\n",
    "        else:\n",
    "            pass\n",
    "\n",
    "        counter += 1\n",
    "\n",
    "    if t == 0:\n",
    "        return (\"I'm sorry, we can't find that song\")\n"
   ]
  },
  {
   "cell_type": "code",
   "execution_count": 15,
   "id": "33c573bd",
   "metadata": {},
   "outputs": [
    {
     "name": "stdout",
     "output_type": "stream",
     "text": [
      "Who is the artist: Cher\n",
      "Give Me A Song: Believe\n"
     ]
    },
    {
     "ename": "NameError",
     "evalue": "name 'kmeans' is not defined",
     "output_type": "error",
     "traceback": [
      "\u001b[0;31m---------------------------------------------------------------------------\u001b[0m",
      "\u001b[0;31mNameError\u001b[0m                                 Traceback (most recent call last)",
      "\u001b[0;32m/var/folders/sm/8s2c1j894rq6v788yfhxt27r0000gn/T/ipykernel_1721/3476589053.py\u001b[0m in \u001b[0;36m<module>\u001b[0;34m\u001b[0m\n\u001b[0;32m----> 1\u001b[0;31m \u001b[0msongrecommend\u001b[0m\u001b[0;34m(\u001b[0m\u001b[0;34m)\u001b[0m\u001b[0;34m\u001b[0m\u001b[0;34m\u001b[0m\u001b[0m\n\u001b[0m",
      "\u001b[0;32m/var/folders/sm/8s2c1j894rq6v788yfhxt27r0000gn/T/ipykernel_1721/1610570604.py\u001b[0m in \u001b[0;36msongrecommend\u001b[0;34m()\u001b[0m\n\u001b[1;32m     34\u001b[0m             \u001b[0;31m#dffeat = pd.concat([df,dffeat],axis = 1)\u001b[0m\u001b[0;34m\u001b[0m\u001b[0;34m\u001b[0m\u001b[0m\n\u001b[1;32m     35\u001b[0m \u001b[0;34m\u001b[0m\u001b[0m\n\u001b[0;32m---> 36\u001b[0;31m             \u001b[0mcluster\u001b[0m \u001b[0;34m=\u001b[0m \u001b[0mkmeans\u001b[0m\u001b[0;34m.\u001b[0m\u001b[0mpredict\u001b[0m\u001b[0;34m(\u001b[0m\u001b[0mdffeat\u001b[0m\u001b[0;34m)\u001b[0m\u001b[0;34m\u001b[0m\u001b[0;34m\u001b[0m\u001b[0m\n\u001b[0m\u001b[1;32m     37\u001b[0m \u001b[0;34m\u001b[0m\u001b[0m\n\u001b[1;32m     38\u001b[0m             \u001b[0;31m#print(cluster)\u001b[0m\u001b[0;34m\u001b[0m\u001b[0;34m\u001b[0m\u001b[0m\n",
      "\u001b[0;31mNameError\u001b[0m: name 'kmeans' is not defined"
     ]
    }
   ],
   "source": [
    "songrecommend()"
   ]
  },
  {
   "cell_type": "code",
   "execution_count": null,
   "id": "82c34211",
   "metadata": {},
   "outputs": [],
   "source": []
  }
 ],
 "metadata": {
  "kernelspec": {
   "display_name": "Python 3 (ipykernel)",
   "language": "python",
   "name": "python3"
  },
  "language_info": {
   "codemirror_mode": {
    "name": "ipython",
    "version": 3
   },
   "file_extension": ".py",
   "mimetype": "text/x-python",
   "name": "python",
   "nbconvert_exporter": "python",
   "pygments_lexer": "ipython3",
   "version": "3.9.7"
  }
 },
 "nbformat": 4,
 "nbformat_minor": 5
}
