{
 "cells": [
  {
   "cell_type": "code",
   "execution_count": 2,
   "id": "7aa9ba99",
   "metadata": {},
   "outputs": [],
   "source": [
    "from bs4 import BeautifulSoup\n",
    "import requests\n",
    "import pandas as pd\n",
    "import re\n",
    "import random\n",
    "#from pandas.io.json import json_normalize\n",
    "import numpy as np\n",
    "import matplotlib.pyplot as plt\n",
    "from sklearn.preprocessing import StandardScaler\n",
    "import numpy as np\n",
    "from sklearn.metrics import silhouette_score\n",
    "from sklearn.model_selection import train_test_split\n",
    "from sklearn.decomposition import PCA    \n",
    "import matplotlib.pyplot as plt\n",
    "from sklearn.cluster import KMeans\n",
    "import spotipy\n",
    "from spotipy.oauth2 import SpotifyClientCredentials\n",
    "from sklearn.cluster import KMeans\n",
    "import numpy as np\n",
    "\n",
    "from random import randint\n",
    "from time import sleep"
   ]
  },
  {
   "cell_type": "code",
   "execution_count": 3,
   "id": "ac2d4298",
   "metadata": {},
   "outputs": [],
   "source": [
    "final_p = pd.read_csv('song_recommender_playlist_post-scaling.csv')"
   ]
  },
  {
   "cell_type": "code",
   "execution_count": 4,
   "id": "ec9dda6b",
   "metadata": {},
   "outputs": [],
   "source": [
    "top = pd.read_csv('top.csv')"
   ]
  },
  {
   "cell_type": "code",
   "execution_count": 5,
   "id": "31230a56",
   "metadata": {},
   "outputs": [
    {
     "data": {
      "text/plain": [
       "['cid:dc735e5f93a34ef284c10ceabecd270e',\n",
       " 'csecret:d5b2ce46ac224e3bb0b06504ca5c2c83']"
      ]
     },
     "execution_count": 5,
     "metadata": {},
     "output_type": "execute_result"
    }
   ],
   "source": [
    "secrets_file = open(\"secrets.txt\",\"r\")\n",
    "string = secrets_file.read()\n",
    "string.split('\\n')"
   ]
  },
  {
   "cell_type": "code",
   "execution_count": 6,
   "id": "3565e52d",
   "metadata": {},
   "outputs": [],
   "source": [
    "secrets_dict={}\n",
    "for line in string.split('\\n'):\n",
    "    if len(line) > 0:\n",
    "        secrets_dict[line.split(':')[0]]=line.split(':')[1]"
   ]
  },
  {
   "cell_type": "code",
   "execution_count": 7,
   "id": "40186732",
   "metadata": {},
   "outputs": [],
   "source": [
    "sp = spotipy.Spotify(auth_manager=SpotifyClientCredentials(client_id=secrets_dict['cid'],\n",
    "                                                           client_secret=secrets_dict['csecret']))"
   ]
  },
  {
   "cell_type": "code",
   "execution_count": 8,
   "id": "a7797a86",
   "metadata": {},
   "outputs": [
    {
     "data": {
      "text/plain": [
       "KMeans(n_clusters=5000, random_state=1234)"
      ]
     },
     "execution_count": 8,
     "metadata": {},
     "output_type": "execute_result"
    }
   ],
   "source": [
    "X = final_p.select_dtypes(include=np.number)\n",
    "y = final_p[['song','artist']]\n",
    "\n",
    "X_prep = StandardScaler().fit_transform(X)\n",
    "\n",
    "kmeans = KMeans(n_clusters=5000, random_state=1234)\n",
    "kmeans.fit(X_prep)\n",
    "\n"
   ]
  },
  {
   "cell_type": "code",
   "execution_count": 9,
   "id": "f9f7a8a7",
   "metadata": {},
   "outputs": [
    {
     "data": {
      "text/plain": [
       "array([[ 0.79983141,  0.3897919 ,  0.5802647 , ...,  0.80723132,\n",
       "         0.3200086 ,  0.19254722],\n",
       "       [-0.72955348, -1.19911266, -0.48876781, ..., -1.11186127,\n",
       "        -1.77608577, -0.33067441],\n",
       "       [ 2.37103542, -0.66947781,  0.42257318, ...,  1.01156059,\n",
       "        -0.3959726 ,  0.19254722],\n",
       "       ...,\n",
       "       [-0.40097469,  0.19331445, -1.00614369, ...,  0.286392  ,\n",
       "         0.8758964 ,  1.23899048],\n",
       "       [ 0.04708729, -2.53729491, -3.14869158, ..., -1.59664248,\n",
       "        -1.46768933, -0.33067441],\n",
       "       [ 0.91931461, -0.24662417, -1.73263223, ...,  1.82086478,\n",
       "         0.08242543,  0.19254722]])"
      ]
     },
     "execution_count": 9,
     "metadata": {},
     "output_type": "execute_result"
    }
   ],
   "source": [
    "X_prep"
   ]
  },
  {
   "cell_type": "code",
   "execution_count": 10,
   "id": "36b0a78d",
   "metadata": {},
   "outputs": [],
   "source": [
    "######Test To Work In Notebook######\n",
    "\n",
    "def songrecommend():\n",
    "    artist = input('Who is the artist: ')\n",
    "    song = input('Give Me A Song: ')\n",
    "\n",
    "\n",
    "\n",
    "    #come back and look through artists to loop and find all songs\n",
    "    results = sp.search(q=song, type='track', limit=50)\n",
    "\n",
    "    #print(results['tracks']['items'][0]['name'])\n",
    "    counter = 0\n",
    "    t = 0\n",
    "    for i in results[\"tracks\"]['items'][counter]:\n",
    "        if song in list(top['track']):\n",
    "            if artist in list(top['artist']):\n",
    "                print(\"HOT HOT HOT!!\")\n",
    "                t += 1\n",
    "                break\n",
    "        elif artist in results[\"tracks\"]['items'][counter]['album']['artists'][0]['name']:\n",
    "\n",
    "            s = results[\"tracks\"]['items'][counter]['name']\n",
    "            #print(results[\"tracks\"]['items'][counter]['name'])\n",
    "            a = results[\"tracks\"]['items'][counter]['album']['artists'][0]['name']\n",
    "            #print(results[\"tracks\"]['items'][counter]['album']['artists'][0]['name'])\n",
    "            f = (sp.audio_features(results[\"tracks\"]['items'][counter]['uri']))\n",
    "\n",
    "            df = pd.DataFrame({'artist': a, 'song': s, 'features': f})                 \n",
    "            dffeat = pd.json_normalize(df['features'])\n",
    "            dffeat = dffeat[['danceability','energy','loudness','speechiness','acousticness','instrumentalness','liveness','valence','tempo']] \n",
    "            #df = df[['artist','song']]\n",
    "            #dffeat = pd.concat([df,dffeat],axis = 1)\n",
    "\n",
    "            cluster = kmeans.predict(dffeat)\n",
    "\n",
    "            #print(cluster)\n",
    "\n",
    "            songrec = final_p[final_p['cluster'] == cluster[0]]\n",
    "\n",
    "            #songrec\n",
    "            ran = random.randint(0,len(songrec))\n",
    "            songs = songrec.iloc[ran]['song']\n",
    "            artists = songrec.iloc[ran]['artist']\n",
    "            print('We Recommend you listen to',songs,'by',artists)\n",
    "            \n",
    "\n",
    "            \n",
    "            t += 1                  \n",
    "            break\n",
    "        else:\n",
    "            pass\n",
    "\n",
    "        counter += 1\n",
    "\n",
    "    if t == 0:\n",
    "        print(\"I'm sorry, we can't find that song\")\n"
   ]
  },
  {
   "cell_type": "code",
   "execution_count": 10,
   "id": "55367340",
   "metadata": {},
   "outputs": [],
   "source": [
    "######Test To Work In Interface######\n",
    "\n",
    "\n",
    "def songrecommend_int(input_song,input_artist):\n",
    "    \n",
    "    artist = input_artist\n",
    "    song = input_song\n",
    "\n",
    "# --------   \n",
    "    \n",
    "    \n",
    "    #come back and look through artists to loop and find all songs\n",
    "    results = sp.search(q=song, type='track', limit=50)\n",
    "\n",
    "    \n",
    "    \n",
    "    #print(results['tracks']['items'][0]['name'])\n",
    "    counter = 0\n",
    "    t = 0\n",
    "    for i in results[\"tracks\"]['items'][counter]:\n",
    "        if song in list(top['track']):\n",
    "            if artist in list(top['artist']):\n",
    "                ron = random.randint(0,200)\n",
    "                songs100 = top.iloc[ron]['track']\n",
    "                artists100 = top.iloc[ron]['artist']\n",
    "                return (\"!!HOT HOT HOT!! We Recommend you listen to\",songs100,\"by\",artists100)\n",
    "                t += 1\n",
    "                break\n",
    "                \n",
    "                \n",
    "                \n",
    "        elif artist in results[\"tracks\"]['items'][counter]['album']['artists'][0]['name']:\n",
    "\n",
    "            s = results[\"tracks\"]['items'][counter]['name']\n",
    "            #print(results[\"tracks\"]['items'][counter]['name'])\n",
    "            a = results[\"tracks\"]['items'][counter]['album']['artists'][0]['name']\n",
    "            #print(results[\"tracks\"]['items'][counter]['album']['artists'][0]['name'])\n",
    "            f = sp.audio_features(results[\"tracks\"]['items'][counter]['uri'])\n",
    "            uri = (results[\"tracks\"]['items'][counter]['uri'])\n",
    "            print(uri)\n",
    "            \n",
    "            df = pd.DataFrame({'artist': a, 'song': s, 'features': f})                 \n",
    "            dffeat = pd.json_normalize(df['features'])\n",
    "            #print(dffeat)\n",
    "            dffeat = dffeat[['danceability','energy','loudness','speechiness','acousticness','instrumentalness','liveness','valence','tempo']] \n",
    "            #display(dffeat)\n",
    "            #df = df[['artist','song']]\n",
    "            #dffeat = pd.concat([df,dffeat],axis = 1)\n",
    "            ## SCALE ##\n",
    "            dffeatscaled = scaler.transform(dffeat)\n",
    "            \n",
    "            cluster = kmeans.predict(dffeatscaled)\n",
    "\n",
    "            print(cluster)\n",
    "\n",
    "            songrec = final_p[final_p['cluster'] == cluster[0]]\n",
    "\n",
    "            display(songrec)\n",
    "            ran = random.randint(0,len(songrec))\n",
    "            songs = songrec.iloc[ran]['song']\n",
    "            artists = songrec.iloc[ran]['artist']\n",
    "            \n",
    "            \n",
    "            \n",
    "#-----------            \n",
    "            return (recommendation_result_song.config(text=f\"{songs}\"))\n",
    "                    #, recommendation_result_artists.config(text=f\"{artists}\"))\n",
    "    \n",
    "            \n",
    "            #print('We Recommend you listen to',songs,'by',artists)\n",
    "            \n",
    "\n",
    "            \n",
    "            t += 1                  \n",
    "            break\n",
    "        else:\n",
    "            pass\n",
    "\n",
    "        counter += 1\n",
    "\n",
    "    if t == 0:\n",
    "        return (\"I'm sorry, we can't find that song\")\n"
   ]
  },
  {
   "cell_type": "code",
   "execution_count": 11,
   "id": "33c573bd",
   "metadata": {},
   "outputs": [
    {
     "name": "stdout",
     "output_type": "stream",
     "text": [
      "Who is the artist: Michael Jackson\n",
      "Give Me A Song: Bad\n"
     ]
    },
    {
     "name": "stderr",
     "output_type": "stream",
     "text": [
      "/opt/anaconda3/lib/python3.9/site-packages/sklearn/base.py:443: UserWarning: X has feature names, but KMeans was fitted without feature names\n",
      "  warnings.warn(\n"
     ]
    },
    {
     "ename": "ValueError",
     "evalue": "X has 9 features, but KMeans is expecting 10 features as input.",
     "output_type": "error",
     "traceback": [
      "\u001b[0;31m---------------------------------------------------------------------------\u001b[0m",
      "\u001b[0;31mValueError\u001b[0m                                Traceback (most recent call last)",
      "\u001b[0;32m/var/folders/sm/8s2c1j894rq6v788yfhxt27r0000gn/T/ipykernel_8878/3476589053.py\u001b[0m in \u001b[0;36m<module>\u001b[0;34m\u001b[0m\n\u001b[0;32m----> 1\u001b[0;31m \u001b[0msongrecommend\u001b[0m\u001b[0;34m(\u001b[0m\u001b[0;34m)\u001b[0m\u001b[0;34m\u001b[0m\u001b[0;34m\u001b[0m\u001b[0m\n\u001b[0m",
      "\u001b[0;32m/var/folders/sm/8s2c1j894rq6v788yfhxt27r0000gn/T/ipykernel_8878/3849666607.py\u001b[0m in \u001b[0;36msongrecommend\u001b[0;34m()\u001b[0m\n\u001b[1;32m     33\u001b[0m             \u001b[0;31m#dffeat = pd.concat([df,dffeat],axis = 1)\u001b[0m\u001b[0;34m\u001b[0m\u001b[0;34m\u001b[0m\u001b[0m\n\u001b[1;32m     34\u001b[0m \u001b[0;34m\u001b[0m\u001b[0m\n\u001b[0;32m---> 35\u001b[0;31m             \u001b[0mcluster\u001b[0m \u001b[0;34m=\u001b[0m \u001b[0mkmeans\u001b[0m\u001b[0;34m.\u001b[0m\u001b[0mpredict\u001b[0m\u001b[0;34m(\u001b[0m\u001b[0mdffeat\u001b[0m\u001b[0;34m)\u001b[0m\u001b[0;34m\u001b[0m\u001b[0;34m\u001b[0m\u001b[0m\n\u001b[0m\u001b[1;32m     36\u001b[0m \u001b[0;34m\u001b[0m\u001b[0m\n\u001b[1;32m     37\u001b[0m             \u001b[0;31m#print(cluster)\u001b[0m\u001b[0;34m\u001b[0m\u001b[0;34m\u001b[0m\u001b[0m\n",
      "\u001b[0;32m/opt/anaconda3/lib/python3.9/site-packages/sklearn/cluster/_kmeans.py\u001b[0m in \u001b[0;36mpredict\u001b[0;34m(self, X, sample_weight)\u001b[0m\n\u001b[1;32m   1328\u001b[0m         \u001b[0mcheck_is_fitted\u001b[0m\u001b[0;34m(\u001b[0m\u001b[0mself\u001b[0m\u001b[0;34m)\u001b[0m\u001b[0;34m\u001b[0m\u001b[0;34m\u001b[0m\u001b[0m\n\u001b[1;32m   1329\u001b[0m \u001b[0;34m\u001b[0m\u001b[0m\n\u001b[0;32m-> 1330\u001b[0;31m         \u001b[0mX\u001b[0m \u001b[0;34m=\u001b[0m \u001b[0mself\u001b[0m\u001b[0;34m.\u001b[0m\u001b[0m_check_test_data\u001b[0m\u001b[0;34m(\u001b[0m\u001b[0mX\u001b[0m\u001b[0;34m)\u001b[0m\u001b[0;34m\u001b[0m\u001b[0;34m\u001b[0m\u001b[0m\n\u001b[0m\u001b[1;32m   1331\u001b[0m         \u001b[0mx_squared_norms\u001b[0m \u001b[0;34m=\u001b[0m \u001b[0mrow_norms\u001b[0m\u001b[0;34m(\u001b[0m\u001b[0mX\u001b[0m\u001b[0;34m,\u001b[0m \u001b[0msquared\u001b[0m\u001b[0;34m=\u001b[0m\u001b[0;32mTrue\u001b[0m\u001b[0;34m)\u001b[0m\u001b[0;34m\u001b[0m\u001b[0;34m\u001b[0m\u001b[0m\n\u001b[1;32m   1332\u001b[0m         \u001b[0msample_weight\u001b[0m \u001b[0;34m=\u001b[0m \u001b[0m_check_sample_weight\u001b[0m\u001b[0;34m(\u001b[0m\u001b[0msample_weight\u001b[0m\u001b[0;34m,\u001b[0m \u001b[0mX\u001b[0m\u001b[0;34m,\u001b[0m \u001b[0mdtype\u001b[0m\u001b[0;34m=\u001b[0m\u001b[0mX\u001b[0m\u001b[0;34m.\u001b[0m\u001b[0mdtype\u001b[0m\u001b[0;34m)\u001b[0m\u001b[0;34m\u001b[0m\u001b[0;34m\u001b[0m\u001b[0m\n",
      "\u001b[0;32m/opt/anaconda3/lib/python3.9/site-packages/sklearn/cluster/_kmeans.py\u001b[0m in \u001b[0;36m_check_test_data\u001b[0;34m(self, X)\u001b[0m\n\u001b[1;32m   1005\u001b[0m \u001b[0;34m\u001b[0m\u001b[0m\n\u001b[1;32m   1006\u001b[0m     \u001b[0;32mdef\u001b[0m \u001b[0m_check_test_data\u001b[0m\u001b[0;34m(\u001b[0m\u001b[0mself\u001b[0m\u001b[0;34m,\u001b[0m \u001b[0mX\u001b[0m\u001b[0;34m)\u001b[0m\u001b[0;34m:\u001b[0m\u001b[0;34m\u001b[0m\u001b[0;34m\u001b[0m\u001b[0m\n\u001b[0;32m-> 1007\u001b[0;31m         X = self._validate_data(\n\u001b[0m\u001b[1;32m   1008\u001b[0m             \u001b[0mX\u001b[0m\u001b[0;34m,\u001b[0m\u001b[0;34m\u001b[0m\u001b[0;34m\u001b[0m\u001b[0m\n\u001b[1;32m   1009\u001b[0m             \u001b[0maccept_sparse\u001b[0m\u001b[0;34m=\u001b[0m\u001b[0;34m\"csr\"\u001b[0m\u001b[0;34m,\u001b[0m\u001b[0;34m\u001b[0m\u001b[0;34m\u001b[0m\u001b[0m\n",
      "\u001b[0;32m/opt/anaconda3/lib/python3.9/site-packages/sklearn/base.py\u001b[0m in \u001b[0;36m_validate_data\u001b[0;34m(self, X, y, reset, validate_separately, **check_params)\u001b[0m\n\u001b[1;32m    583\u001b[0m \u001b[0;34m\u001b[0m\u001b[0m\n\u001b[1;32m    584\u001b[0m         \u001b[0;32mif\u001b[0m \u001b[0;32mnot\u001b[0m \u001b[0mno_val_X\u001b[0m \u001b[0;32mand\u001b[0m \u001b[0mcheck_params\u001b[0m\u001b[0;34m.\u001b[0m\u001b[0mget\u001b[0m\u001b[0;34m(\u001b[0m\u001b[0;34m\"ensure_2d\"\u001b[0m\u001b[0;34m,\u001b[0m \u001b[0;32mTrue\u001b[0m\u001b[0;34m)\u001b[0m\u001b[0;34m:\u001b[0m\u001b[0;34m\u001b[0m\u001b[0;34m\u001b[0m\u001b[0m\n\u001b[0;32m--> 585\u001b[0;31m             \u001b[0mself\u001b[0m\u001b[0;34m.\u001b[0m\u001b[0m_check_n_features\u001b[0m\u001b[0;34m(\u001b[0m\u001b[0mX\u001b[0m\u001b[0;34m,\u001b[0m \u001b[0mreset\u001b[0m\u001b[0;34m=\u001b[0m\u001b[0mreset\u001b[0m\u001b[0;34m)\u001b[0m\u001b[0;34m\u001b[0m\u001b[0;34m\u001b[0m\u001b[0m\n\u001b[0m\u001b[1;32m    586\u001b[0m \u001b[0;34m\u001b[0m\u001b[0m\n\u001b[1;32m    587\u001b[0m         \u001b[0;32mreturn\u001b[0m \u001b[0mout\u001b[0m\u001b[0;34m\u001b[0m\u001b[0;34m\u001b[0m\u001b[0m\n",
      "\u001b[0;32m/opt/anaconda3/lib/python3.9/site-packages/sklearn/base.py\u001b[0m in \u001b[0;36m_check_n_features\u001b[0;34m(self, X, reset)\u001b[0m\n\u001b[1;32m    398\u001b[0m \u001b[0;34m\u001b[0m\u001b[0m\n\u001b[1;32m    399\u001b[0m         \u001b[0;32mif\u001b[0m \u001b[0mn_features\u001b[0m \u001b[0;34m!=\u001b[0m \u001b[0mself\u001b[0m\u001b[0;34m.\u001b[0m\u001b[0mn_features_in_\u001b[0m\u001b[0;34m:\u001b[0m\u001b[0;34m\u001b[0m\u001b[0;34m\u001b[0m\u001b[0m\n\u001b[0;32m--> 400\u001b[0;31m             raise ValueError(\n\u001b[0m\u001b[1;32m    401\u001b[0m                 \u001b[0;34mf\"X has {n_features} features, but {self.__class__.__name__} \"\u001b[0m\u001b[0;34m\u001b[0m\u001b[0;34m\u001b[0m\u001b[0m\n\u001b[1;32m    402\u001b[0m                 \u001b[0;34mf\"is expecting {self.n_features_in_} features as input.\"\u001b[0m\u001b[0;34m\u001b[0m\u001b[0;34m\u001b[0m\u001b[0m\n",
      "\u001b[0;31mValueError\u001b[0m: X has 9 features, but KMeans is expecting 10 features as input."
     ]
    }
   ],
   "source": [
    "songrecommend()"
   ]
  },
  {
   "cell_type": "code",
   "execution_count": null,
   "id": "82c34211",
   "metadata": {},
   "outputs": [],
   "source": []
  }
 ],
 "metadata": {
  "kernelspec": {
   "display_name": "Python 3 (ipykernel)",
   "language": "python",
   "name": "python3"
  },
  "language_info": {
   "codemirror_mode": {
    "name": "ipython",
    "version": 3
   },
   "file_extension": ".py",
   "mimetype": "text/x-python",
   "name": "python",
   "nbconvert_exporter": "python",
   "pygments_lexer": "ipython3",
   "version": "3.9.7"
  }
 },
 "nbformat": 4,
 "nbformat_minor": 5
}
