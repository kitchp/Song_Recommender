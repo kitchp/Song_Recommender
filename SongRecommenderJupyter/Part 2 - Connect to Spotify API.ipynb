{
 "cells": [
  {
   "cell_type": "markdown",
   "id": "c01e30ba",
   "metadata": {},
   "source": [
    "# Connecting to Spotify API and Scraping from playlists."
   ]
  },
  {
   "cell_type": "markdown",
   "id": "9f2ae242",
   "metadata": {},
   "source": [
    "---"
   ]
  },
  {
   "cell_type": "markdown",
   "id": "025401cb",
   "metadata": {},
   "source": [
    "### In this notebook, we will explore the spotify API, extract songs from playlists, which will be used to build a database of music."
   ]
  },
  {
   "cell_type": "markdown",
   "id": "0ca8dd0c",
   "metadata": {},
   "source": [
    "---"
   ]
  },
  {
   "cell_type": "markdown",
   "id": "4a869d6e",
   "metadata": {},
   "source": [
    " "
   ]
  },
  {
   "cell_type": "markdown",
   "id": "2952cd29",
   "metadata": {},
   "source": [
    "## Import Libraries"
   ]
  },
  {
   "cell_type": "code",
   "execution_count": 1,
   "id": "450322d2",
   "metadata": {},
   "outputs": [],
   "source": [
    "import pandas as pd\n",
    "import re\n",
    "import random\n",
    "from random import randint\n",
    "import numpy as np\n",
    "import spotipy\n",
    "from spotipy.oauth2 import SpotifyClientCredentials\n",
    "from time import sleep\n",
    "from tqdm import tqdm\n"
   ]
  },
  {
   "cell_type": "markdown",
   "id": "acee21cd",
   "metadata": {},
   "source": [
    "  "
   ]
  },
  {
   "cell_type": "markdown",
   "id": "1644b599",
   "metadata": {},
   "source": [
    "## Import Spotify API credentials. "
   ]
  },
  {
   "cell_type": "code",
   "execution_count": 2,
   "id": "b621b0a8",
   "metadata": {},
   "outputs": [],
   "source": [
    "secrets_file = open(\"../secrets.txt\",\"r\")"
   ]
  },
  {
   "cell_type": "code",
   "execution_count": 3,
   "id": "16119d53",
   "metadata": {},
   "outputs": [],
   "source": [
    "string = secrets_file.read()"
   ]
  },
  {
   "cell_type": "code",
   "execution_count": 4,
   "id": "9798dd77",
   "metadata": {},
   "outputs": [],
   "source": [
    "secrets_dict={}\n",
    "for line in string.split('\\n'):\n",
    "    if len(line) > 0:\n",
    "        secrets_dict[line.split(':')[0]]=line.split(':')[1]"
   ]
  },
  {
   "cell_type": "code",
   "execution_count": 5,
   "id": "2a9245ea",
   "metadata": {},
   "outputs": [],
   "source": [
    "#InitializeSpotiPy with user credentials\n",
    "sp = spotipy.Spotify(auth_manager=SpotifyClientCredentials(client_id=secrets_dict['cid'],\n",
    "                                                           client_secret=secrets_dict['csecret']))"
   ]
  },
  {
   "cell_type": "markdown",
   "id": "60bcf477",
   "metadata": {},
   "source": [
    " "
   ]
  },
  {
   "cell_type": "markdown",
   "id": "ce51334b",
   "metadata": {},
   "source": [
    "## Extract song information from spotify \"spotipy\" api wrapper"
   ]
  },
  {
   "cell_type": "code",
   "execution_count": 6,
   "id": "75a288d6",
   "metadata": {},
   "outputs": [],
   "source": [
    "def get_playlist_tracks(playlist_id):\n",
    "    results = sp.user_playlist_tracks(\"spotify\",playlist_id)\n",
    "    tracks = results['items']\n",
    "    while results['next']!=None:\n",
    "        results = sp.next(results)\n",
    "        tracks = tracks + results['items']\n",
    "        sleep(randint(1,3))\n",
    "    return tracks"
   ]
  },
  {
   "cell_type": "markdown",
   "id": "ed41e518",
   "metadata": {},
   "source": [
    " "
   ]
  },
  {
   "cell_type": "code",
   "execution_count": 7,
   "id": "6a3cab3a",
   "metadata": {},
   "outputs": [],
   "source": [
    "playlist1 = get_playlist_tracks(\"6tIxyT1Gq6O7DK7rIEUEZo\")\n",
    "playlist2 = get_playlist_tracks(\"4pbDDX7np7Q1H0ghL7U9o7\")"
   ]
  },
  {
   "cell_type": "code",
   "execution_count": 8,
   "id": "52c194ec",
   "metadata": {},
   "outputs": [],
   "source": [
    "#Divide the playlists into smaller sections to mitigate the requests failures.\n",
    "\n",
    "#for playlist1\n",
    "spotlist0 = playlist1[0:1000]\n",
    "spotlist1 = playlist1[1000:2000]\n",
    "spotlist2 = playlist1[2000:3000]\n",
    "spotlist3 = playlist1[3000:4000]\n",
    "spotlist4 = playlist1[4000:5000]\n",
    "spotlist5 = playlist1[5000:6000]\n",
    "spotlist6 = playlist1[6000:7000]\n",
    "spotlist7 = playlist1[7000:8000]\n",
    "spotlist8 = playlist1[8000:9000]\n",
    "spotlist9 = playlist1[9000:10000]\n",
    "\n",
    "\n",
    "#for playlist2\n",
    "spotlist10 = playlist2[0:1000]\n",
    "spotlist11 = playlist2[1000:2000]\n",
    "spotlist12 = playlist2[2000:3000]\n",
    "spotlist13 = playlist2[3000:3879]"
   ]
  },
  {
   "cell_type": "markdown",
   "id": "3b986992",
   "metadata": {},
   "source": [
    " "
   ]
  },
  {
   "cell_type": "markdown",
   "id": "efe581a1",
   "metadata": {},
   "source": [
    " "
   ]
  },
  {
   "cell_type": "markdown",
   "id": "89da661c",
   "metadata": {},
   "source": [
    "## Extract and transform the features, transforming everything into a dataframe"
   ]
  },
  {
   "cell_type": "code",
   "execution_count": 9,
   "id": "981ec756",
   "metadata": {},
   "outputs": [],
   "source": [
    "def artist_song(x):\n",
    "    \n",
    "    artist = []\n",
    "    song = []\n",
    "    features = []\n",
    "    counter = 0\n",
    "    \n",
    "    for i in tqdm(x):\n",
    "        song.append(x[counter]['track']['name'])\n",
    "        artist.append(x[counter]['track']['artists'][0]['name'])\n",
    "        #features.append(x[counter][\"track\"][\"uri\"])\n",
    "        features.append(sp.audio_features(x[counter][\"track\"][\"uri\"]))\n",
    "        counter += 1\n",
    "        if counter == 200:\n",
    "            sleep(randint(15,25))\n",
    "            counter = 0\n",
    "    return pd.DataFrame({'artist': artist, 'song': song, 'features': features})"
   ]
  },
  {
   "cell_type": "markdown",
   "id": "01a661e2",
   "metadata": {},
   "source": [
    " "
   ]
  },
  {
   "cell_type": "markdown",
   "id": "8b2b012e",
   "metadata": {},
   "source": [
    "**We will run the playlists three at a time to ensure quality of transformation.**"
   ]
  },
  {
   "cell_type": "code",
   "execution_count": 11,
   "id": "1f414e00",
   "metadata": {},
   "outputs": [],
   "source": [
    "#sleep(86400) #fri 19:09\n",
    "sleep(32400)"
   ]
  },
  {
   "cell_type": "code",
   "execution_count": 12,
   "id": "04b9069f",
   "metadata": {},
   "outputs": [
    {
     "name": "stderr",
     "output_type": "stream",
     "text": [
      "100%|███████████████████████████████████████| 1000/1000 [02:50<00:00,  5.85it/s]\n",
      "100%|███████████████████████████████████████| 1000/1000 [02:59<00:00,  5.58it/s]"
     ]
    },
    {
     "name": "stdout",
     "output_type": "stream",
     "text": [
      "CPU times: user 19.6 s, sys: 4.65 s, total: 24.3 s\n",
      "Wall time: 5min 51s\n"
     ]
    },
    {
     "name": "stderr",
     "output_type": "stream",
     "text": [
      "\n"
     ]
    }
   ],
   "source": [
    "%%time\n",
    "spotlist0df= artist_song(spotlist0)\n",
    "spotlist1df= artist_song(spotlist1)"
   ]
  },
  {
   "cell_type": "code",
   "execution_count": 20,
   "id": "9d351192",
   "metadata": {},
   "outputs": [],
   "source": [
    "sleep(13480) #sat 23:17"
   ]
  },
  {
   "cell_type": "code",
   "execution_count": 21,
   "id": "acea59d7",
   "metadata": {},
   "outputs": [
    {
     "name": "stderr",
     "output_type": "stream",
     "text": [
      "100%|███████████████████████████████████████| 1000/1000 [02:51<00:00,  5.84it/s]\n",
      "100%|███████████████████████████████████████| 1000/1000 [03:00<00:00,  5.54it/s]"
     ]
    },
    {
     "name": "stdout",
     "output_type": "stream",
     "text": [
      "CPU times: user 20.6 s, sys: 3.99 s, total: 24.5 s\n",
      "Wall time: 5min 51s\n"
     ]
    },
    {
     "name": "stderr",
     "output_type": "stream",
     "text": [
      "\n"
     ]
    }
   ],
   "source": [
    "%%time\n",
    "spotlist2df= artist_song(spotlist2)\n",
    "spotlist3df= artist_song(spotlist3)\n"
   ]
  },
  {
   "cell_type": "code",
   "execution_count": 23,
   "id": "55a75271",
   "metadata": {},
   "outputs": [],
   "source": [
    "sleep(38700) #sun 23:25"
   ]
  },
  {
   "cell_type": "code",
   "execution_count": 24,
   "id": "5f896433",
   "metadata": {},
   "outputs": [
    {
     "name": "stderr",
     "output_type": "stream",
     "text": [
      "100%|███████████████████████████████████████| 1000/1000 [03:15<00:00,  5.12it/s]\n",
      "100%|███████████████████████████████████████| 1000/1000 [03:04<00:00,  5.41it/s]"
     ]
    },
    {
     "name": "stdout",
     "output_type": "stream",
     "text": [
      "CPU times: user 20.5 s, sys: 4.12 s, total: 24.6 s\n",
      "Wall time: 6min 20s\n"
     ]
    },
    {
     "name": "stderr",
     "output_type": "stream",
     "text": [
      "\n"
     ]
    }
   ],
   "source": [
    "%%time\n",
    "spotlist4df= artist_song(spotlist4)\n",
    "spotlist5df= artist_song(spotlist5)\n"
   ]
  },
  {
   "cell_type": "code",
   "execution_count": 25,
   "id": "1ed19308",
   "metadata": {},
   "outputs": [],
   "source": [
    "sleep(86400) #mon 23:35am"
   ]
  },
  {
   "cell_type": "code",
   "execution_count": 26,
   "id": "0fd11642",
   "metadata": {},
   "outputs": [
    {
     "name": "stderr",
     "output_type": "stream",
     "text": [
      "100%|███████████████████████████████████████| 1000/1000 [02:56<00:00,  5.66it/s]\n",
      "100%|███████████████████████████████████████| 1000/1000 [02:55<00:00,  5.71it/s]"
     ]
    },
    {
     "name": "stdout",
     "output_type": "stream",
     "text": [
      "CPU times: user 21.2 s, sys: 4.16 s, total: 25.4 s\n",
      "Wall time: 5min 51s\n"
     ]
    },
    {
     "name": "stderr",
     "output_type": "stream",
     "text": [
      "\n"
     ]
    }
   ],
   "source": [
    "%%time\n",
    "spotlist6df= artist_song(spotlist6)\n",
    "spotlist7df= artist_song(spotlist7)\n"
   ]
  },
  {
   "cell_type": "code",
   "execution_count": 29,
   "id": "33f223f7",
   "metadata": {},
   "outputs": [],
   "source": [
    "sleep(17550) #tue 23:44am"
   ]
  },
  {
   "cell_type": "code",
   "execution_count": 30,
   "id": "ee272e57",
   "metadata": {},
   "outputs": [
    {
     "name": "stderr",
     "output_type": "stream",
     "text": [
      "100%|███████████████████████████████████████| 1000/1000 [02:57<00:00,  5.63it/s]\n",
      "100%|█████████████████████████████████████████| 999/999 [02:44<00:00,  6.06it/s]\n"
     ]
    },
    {
     "name": "stdout",
     "output_type": "stream",
     "text": [
      "CPU times: user 20.1 s, sys: 4.02 s, total: 24.1 s\n",
      "Wall time: 5min 42s\n"
     ]
    }
   ],
   "source": [
    "%%time\n",
    "spotlist8df= artist_song(spotlist8)\n",
    "spotlist9df= artist_song(spotlist9)"
   ]
  },
  {
   "cell_type": "code",
   "execution_count": 31,
   "id": "0f1505d7",
   "metadata": {},
   "outputs": [],
   "source": [
    "sleep(86400) #wed 23:51"
   ]
  },
  {
   "cell_type": "code",
   "execution_count": 32,
   "id": "7bded497",
   "metadata": {},
   "outputs": [
    {
     "name": "stderr",
     "output_type": "stream",
     "text": [
      "100%|███████████████████████████████████████| 1000/1000 [03:11<00:00,  5.22it/s]\n",
      "100%|███████████████████████████████████████| 1000/1000 [03:16<00:00,  5.08it/s]"
     ]
    },
    {
     "name": "stdout",
     "output_type": "stream",
     "text": [
      "CPU times: user 20 s, sys: 4.16 s, total: 24.1 s\n",
      "Wall time: 6min 28s\n"
     ]
    },
    {
     "name": "stderr",
     "output_type": "stream",
     "text": [
      "\n"
     ]
    }
   ],
   "source": [
    "%%time\n",
    "spotlist10df= artist_song(spotlist10)\n",
    "spotlist11df= artist_song(spotlist11)"
   ]
  },
  {
   "cell_type": "code",
   "execution_count": 33,
   "id": "12a7f1e2",
   "metadata": {},
   "outputs": [],
   "source": [
    "sleep(86400) #thu 23:57"
   ]
  },
  {
   "cell_type": "code",
   "execution_count": 34,
   "id": "8cbd810c",
   "metadata": {},
   "outputs": [
    {
     "name": "stderr",
     "output_type": "stream",
     "text": [
      "100%|███████████████████████████████████████| 1000/1000 [02:48<00:00,  5.93it/s]\n",
      "100%|█████████████████████████████████████████| 878/878 [02:29<00:00,  5.87it/s]"
     ]
    },
    {
     "name": "stdout",
     "output_type": "stream",
     "text": [
      "CPU times: user 19.4 s, sys: 4.01 s, total: 23.4 s\n",
      "Wall time: 5min 18s\n"
     ]
    },
    {
     "name": "stderr",
     "output_type": "stream",
     "text": [
      "\n"
     ]
    }
   ],
   "source": [
    "%%time\n",
    "spotlist12df= artist_song(spotlist12)\n",
    "spotlist13df= artist_song(spotlist13)"
   ]
  },
  {
   "cell_type": "markdown",
   "id": "6cf0870b",
   "metadata": {},
   "source": [
    " "
   ]
  },
  {
   "cell_type": "markdown",
   "id": "91bcabfd",
   "metadata": {},
   "source": [
    "**Check three of the lists to ensure that the API has not caused any errors.**"
   ]
  },
  {
   "cell_type": "code",
   "execution_count": 36,
   "id": "2d58764c",
   "metadata": {},
   "outputs": [
    {
     "data": {
      "text/html": [
       "<div>\n",
       "<style scoped>\n",
       "    .dataframe tbody tr th:only-of-type {\n",
       "        vertical-align: middle;\n",
       "    }\n",
       "\n",
       "    .dataframe tbody tr th {\n",
       "        vertical-align: top;\n",
       "    }\n",
       "\n",
       "    .dataframe thead th {\n",
       "        text-align: right;\n",
       "    }\n",
       "</style>\n",
       "<table border=\"1\" class=\"dataframe\">\n",
       "  <thead>\n",
       "    <tr style=\"text-align: right;\">\n",
       "      <th></th>\n",
       "      <th>artist</th>\n",
       "      <th>song</th>\n",
       "      <th>features</th>\n",
       "    </tr>\n",
       "  </thead>\n",
       "  <tbody>\n",
       "    <tr>\n",
       "      <th>0</th>\n",
       "      <td>Queen</td>\n",
       "      <td>A Kind Of Magic - Remastered 2011</td>\n",
       "      <td>[{'danceability': 0.67, 'energy': 0.776, 'key'...</td>\n",
       "    </tr>\n",
       "    <tr>\n",
       "      <th>1</th>\n",
       "      <td>Queen</td>\n",
       "      <td>Bohemian Rhapsody - Remastered 2011</td>\n",
       "      <td>[{'danceability': 0.414, 'energy': 0.404, 'key...</td>\n",
       "    </tr>\n",
       "  </tbody>\n",
       "</table>\n",
       "</div>"
      ],
      "text/plain": [
       "  artist                                 song  \\\n",
       "0  Queen    A Kind Of Magic - Remastered 2011   \n",
       "1  Queen  Bohemian Rhapsody - Remastered 2011   \n",
       "\n",
       "                                            features  \n",
       "0  [{'danceability': 0.67, 'energy': 0.776, 'key'...  \n",
       "1  [{'danceability': 0.414, 'energy': 0.404, 'key...  "
      ]
     },
     "metadata": {},
     "output_type": "display_data"
    },
    {
     "data": {
      "text/html": [
       "<div>\n",
       "<style scoped>\n",
       "    .dataframe tbody tr th:only-of-type {\n",
       "        vertical-align: middle;\n",
       "    }\n",
       "\n",
       "    .dataframe tbody tr th {\n",
       "        vertical-align: top;\n",
       "    }\n",
       "\n",
       "    .dataframe thead th {\n",
       "        text-align: right;\n",
       "    }\n",
       "</style>\n",
       "<table border=\"1\" class=\"dataframe\">\n",
       "  <thead>\n",
       "    <tr style=\"text-align: right;\">\n",
       "      <th></th>\n",
       "      <th>artist</th>\n",
       "      <th>song</th>\n",
       "      <th>features</th>\n",
       "    </tr>\n",
       "  </thead>\n",
       "  <tbody>\n",
       "    <tr>\n",
       "      <th>0</th>\n",
       "      <td>Blind Guardian</td>\n",
       "      <td>Sacred Worlds - Extended \"Sacred\"</td>\n",
       "      <td>[{'danceability': 0.154, 'energy': 0.908, 'key...</td>\n",
       "    </tr>\n",
       "    <tr>\n",
       "      <th>1</th>\n",
       "      <td>Blind Guardian</td>\n",
       "      <td>Majesty</td>\n",
       "      <td>[{'danceability': 0.252, 'energy': 0.861, 'key...</td>\n",
       "    </tr>\n",
       "  </tbody>\n",
       "</table>\n",
       "</div>"
      ],
      "text/plain": [
       "           artist                               song  \\\n",
       "0  Blind Guardian  Sacred Worlds - Extended \"Sacred\"   \n",
       "1  Blind Guardian                            Majesty   \n",
       "\n",
       "                                            features  \n",
       "0  [{'danceability': 0.154, 'energy': 0.908, 'key...  \n",
       "1  [{'danceability': 0.252, 'energy': 0.861, 'key...  "
      ]
     },
     "metadata": {},
     "output_type": "display_data"
    },
    {
     "data": {
      "text/html": [
       "<div>\n",
       "<style scoped>\n",
       "    .dataframe tbody tr th:only-of-type {\n",
       "        vertical-align: middle;\n",
       "    }\n",
       "\n",
       "    .dataframe tbody tr th {\n",
       "        vertical-align: top;\n",
       "    }\n",
       "\n",
       "    .dataframe thead th {\n",
       "        text-align: right;\n",
       "    }\n",
       "</style>\n",
       "<table border=\"1\" class=\"dataframe\">\n",
       "  <thead>\n",
       "    <tr style=\"text-align: right;\">\n",
       "      <th></th>\n",
       "      <th>artist</th>\n",
       "      <th>song</th>\n",
       "      <th>features</th>\n",
       "    </tr>\n",
       "  </thead>\n",
       "  <tbody>\n",
       "    <tr>\n",
       "      <th>0</th>\n",
       "      <td>Europe</td>\n",
       "      <td>Ninja</td>\n",
       "      <td>[{'danceability': 0.471, 'energy': 0.882, 'key...</td>\n",
       "    </tr>\n",
       "    <tr>\n",
       "      <th>1</th>\n",
       "      <td>Europe</td>\n",
       "      <td>Cherokee</td>\n",
       "      <td>[{'danceability': 0.585, 'energy': 0.804, 'key...</td>\n",
       "    </tr>\n",
       "  </tbody>\n",
       "</table>\n",
       "</div>"
      ],
      "text/plain": [
       "   artist      song                                           features\n",
       "0  Europe     Ninja  [{'danceability': 0.471, 'energy': 0.882, 'key...\n",
       "1  Europe  Cherokee  [{'danceability': 0.585, 'energy': 0.804, 'key..."
      ]
     },
     "metadata": {},
     "output_type": "display_data"
    }
   ],
   "source": [
    "display(spotlist0df.head(2))\n",
    "display(spotlist6df.head(2))\n",
    "display(spotlist12df.head(2))"
   ]
  },
  {
   "cell_type": "markdown",
   "id": "c3d11d50",
   "metadata": {},
   "source": [
    " "
   ]
  },
  {
   "cell_type": "code",
   "execution_count": 38,
   "id": "97b6c468",
   "metadata": {},
   "outputs": [
    {
     "data": {
      "text/html": [
       "<div>\n",
       "<style scoped>\n",
       "    .dataframe tbody tr th:only-of-type {\n",
       "        vertical-align: middle;\n",
       "    }\n",
       "\n",
       "    .dataframe tbody tr th {\n",
       "        vertical-align: top;\n",
       "    }\n",
       "\n",
       "    .dataframe thead th {\n",
       "        text-align: right;\n",
       "    }\n",
       "</style>\n",
       "<table border=\"1\" class=\"dataframe\">\n",
       "  <thead>\n",
       "    <tr style=\"text-align: right;\">\n",
       "      <th></th>\n",
       "      <th>artist</th>\n",
       "      <th>song</th>\n",
       "      <th>features</th>\n",
       "    </tr>\n",
       "  </thead>\n",
       "  <tbody>\n",
       "    <tr>\n",
       "      <th>0</th>\n",
       "      <td>Queen</td>\n",
       "      <td>A Kind Of Magic - Remastered 2011</td>\n",
       "      <td>[{'danceability': 0.67, 'energy': 0.776, 'key'...</td>\n",
       "    </tr>\n",
       "    <tr>\n",
       "      <th>1</th>\n",
       "      <td>Queen</td>\n",
       "      <td>Bohemian Rhapsody - Remastered 2011</td>\n",
       "      <td>[{'danceability': 0.414, 'energy': 0.404, 'key...</td>\n",
       "    </tr>\n",
       "    <tr>\n",
       "      <th>2</th>\n",
       "      <td>Queen</td>\n",
       "      <td>Another One Bites The Dust - Remastered 2011</td>\n",
       "      <td>[{'danceability': 0.933, 'energy': 0.528, 'key...</td>\n",
       "    </tr>\n",
       "    <tr>\n",
       "      <th>3</th>\n",
       "      <td>Queen</td>\n",
       "      <td>Don't Stop Me Now - Remastered 2011</td>\n",
       "      <td>[{'danceability': 0.559, 'energy': 0.868, 'key...</td>\n",
       "    </tr>\n",
       "    <tr>\n",
       "      <th>4</th>\n",
       "      <td>Queen</td>\n",
       "      <td>Under Pressure - Remastered 2011</td>\n",
       "      <td>[{'danceability': 0.671, 'energy': 0.712, 'key...</td>\n",
       "    </tr>\n",
       "  </tbody>\n",
       "</table>\n",
       "</div>"
      ],
      "text/plain": [
       "  artist                                          song  \\\n",
       "0  Queen             A Kind Of Magic - Remastered 2011   \n",
       "1  Queen           Bohemian Rhapsody - Remastered 2011   \n",
       "2  Queen  Another One Bites The Dust - Remastered 2011   \n",
       "3  Queen           Don't Stop Me Now - Remastered 2011   \n",
       "4  Queen              Under Pressure - Remastered 2011   \n",
       "\n",
       "                                            features  \n",
       "0  [{'danceability': 0.67, 'energy': 0.776, 'key'...  \n",
       "1  [{'danceability': 0.414, 'energy': 0.404, 'key...  \n",
       "2  [{'danceability': 0.933, 'energy': 0.528, 'key...  \n",
       "3  [{'danceability': 0.559, 'energy': 0.868, 'key...  \n",
       "4  [{'danceability': 0.671, 'energy': 0.712, 'key...  "
      ]
     },
     "execution_count": 38,
     "metadata": {},
     "output_type": "execute_result"
    }
   ],
   "source": [
    "spotlistdf = [spotlist0df, spotlist1df, spotlist2df, spotlist3df, spotlist4df, spotlist5df, spotlist6df, spotlist7df, spotlist8df, spotlist9df, spotlist10df, spotlist11df, spotlist12df, spotlist13df]\n",
    "\n",
    "playlist = pd.concat(spotlistdf, axis = 0).reset_index(drop = True)\n",
    "playlist.head()"
   ]
  },
  {
   "cell_type": "markdown",
   "id": "f055f8ef",
   "metadata": {},
   "source": [
    " "
   ]
  },
  {
   "cell_type": "markdown",
   "id": "c191237b",
   "metadata": {},
   "source": [
    " **We can see that the features are packed into a list. We will need to unpack these and disperse them into columns**"
   ]
  },
  {
   "cell_type": "markdown",
   "id": "e04b3996",
   "metadata": {},
   "source": [
    " "
   ]
  },
  {
   "cell_type": "code",
   "execution_count": 40,
   "id": "700b407c",
   "metadata": {},
   "outputs": [],
   "source": [
    "#unpacking the features \n",
    "playlist['features'] = pd.json_normalize(playlist['features'])\n"
   ]
  },
  {
   "cell_type": "code",
   "execution_count": 41,
   "id": "9daf2480",
   "metadata": {},
   "outputs": [
    {
     "data": {
      "text/html": [
       "<div>\n",
       "<style scoped>\n",
       "    .dataframe tbody tr th:only-of-type {\n",
       "        vertical-align: middle;\n",
       "    }\n",
       "\n",
       "    .dataframe tbody tr th {\n",
       "        vertical-align: top;\n",
       "    }\n",
       "\n",
       "    .dataframe thead th {\n",
       "        text-align: right;\n",
       "    }\n",
       "</style>\n",
       "<table border=\"1\" class=\"dataframe\">\n",
       "  <thead>\n",
       "    <tr style=\"text-align: right;\">\n",
       "      <th></th>\n",
       "      <th>artist</th>\n",
       "      <th>song</th>\n",
       "      <th>features</th>\n",
       "    </tr>\n",
       "  </thead>\n",
       "  <tbody>\n",
       "    <tr>\n",
       "      <th>0</th>\n",
       "      <td>Queen</td>\n",
       "      <td>A Kind Of Magic - Remastered 2011</td>\n",
       "      <td>{'danceability': 0.67, 'energy': 0.776, 'key':...</td>\n",
       "    </tr>\n",
       "    <tr>\n",
       "      <th>1</th>\n",
       "      <td>Queen</td>\n",
       "      <td>Bohemian Rhapsody - Remastered 2011</td>\n",
       "      <td>{'danceability': 0.414, 'energy': 0.404, 'key'...</td>\n",
       "    </tr>\n",
       "    <tr>\n",
       "      <th>2</th>\n",
       "      <td>Queen</td>\n",
       "      <td>Another One Bites The Dust - Remastered 2011</td>\n",
       "      <td>{'danceability': 0.933, 'energy': 0.528, 'key'...</td>\n",
       "    </tr>\n",
       "    <tr>\n",
       "      <th>3</th>\n",
       "      <td>Queen</td>\n",
       "      <td>Don't Stop Me Now - Remastered 2011</td>\n",
       "      <td>{'danceability': 0.559, 'energy': 0.868, 'key'...</td>\n",
       "    </tr>\n",
       "    <tr>\n",
       "      <th>4</th>\n",
       "      <td>Queen</td>\n",
       "      <td>Under Pressure - Remastered 2011</td>\n",
       "      <td>{'danceability': 0.671, 'energy': 0.712, 'key'...</td>\n",
       "    </tr>\n",
       "    <tr>\n",
       "      <th>...</th>\n",
       "      <td>...</td>\n",
       "      <td>...</td>\n",
       "      <td>...</td>\n",
       "    </tr>\n",
       "    <tr>\n",
       "      <th>13872</th>\n",
       "      <td>Chris Cornell</td>\n",
       "      <td>Silence The Voices</td>\n",
       "      <td>{'danceability': 0.429, 'energy': 0.581, 'key'...</td>\n",
       "    </tr>\n",
       "    <tr>\n",
       "      <th>13873</th>\n",
       "      <td>Chris Cornell</td>\n",
       "      <td>Disappearing Act</td>\n",
       "      <td>{'danceability': 0.312, 'energy': 0.443, 'key'...</td>\n",
       "    </tr>\n",
       "    <tr>\n",
       "      <th>13874</th>\n",
       "      <td>Chris Cornell</td>\n",
       "      <td>You Know My Name - From \"Casino Royale\" Soundt...</td>\n",
       "      <td>{'danceability': 0.371, 'energy': 0.86, 'key':...</td>\n",
       "    </tr>\n",
       "    <tr>\n",
       "      <th>13875</th>\n",
       "      <td>Chris Cornell</td>\n",
       "      <td>Today - Non-LP Version</td>\n",
       "      <td>{'danceability': 0.622, 'energy': 0.832, 'key'...</td>\n",
       "    </tr>\n",
       "    <tr>\n",
       "      <th>13876</th>\n",
       "      <td>Chris Cornell</td>\n",
       "      <td>Can't Change Me</td>\n",
       "      <td>{'danceability': 0.48, 'energy': 0.829, 'key':...</td>\n",
       "    </tr>\n",
       "  </tbody>\n",
       "</table>\n",
       "<p>13877 rows × 3 columns</p>\n",
       "</div>"
      ],
      "text/plain": [
       "              artist                                               song  \\\n",
       "0              Queen                  A Kind Of Magic - Remastered 2011   \n",
       "1              Queen                Bohemian Rhapsody - Remastered 2011   \n",
       "2              Queen       Another One Bites The Dust - Remastered 2011   \n",
       "3              Queen                Don't Stop Me Now - Remastered 2011   \n",
       "4              Queen                   Under Pressure - Remastered 2011   \n",
       "...              ...                                                ...   \n",
       "13872  Chris Cornell                                 Silence The Voices   \n",
       "13873  Chris Cornell                                   Disappearing Act   \n",
       "13874  Chris Cornell  You Know My Name - From \"Casino Royale\" Soundt...   \n",
       "13875  Chris Cornell                             Today - Non-LP Version   \n",
       "13876  Chris Cornell                                    Can't Change Me   \n",
       "\n",
       "                                                features  \n",
       "0      {'danceability': 0.67, 'energy': 0.776, 'key':...  \n",
       "1      {'danceability': 0.414, 'energy': 0.404, 'key'...  \n",
       "2      {'danceability': 0.933, 'energy': 0.528, 'key'...  \n",
       "3      {'danceability': 0.559, 'energy': 0.868, 'key'...  \n",
       "4      {'danceability': 0.671, 'energy': 0.712, 'key'...  \n",
       "...                                                  ...  \n",
       "13872  {'danceability': 0.429, 'energy': 0.581, 'key'...  \n",
       "13873  {'danceability': 0.312, 'energy': 0.443, 'key'...  \n",
       "13874  {'danceability': 0.371, 'energy': 0.86, 'key':...  \n",
       "13875  {'danceability': 0.622, 'energy': 0.832, 'key'...  \n",
       "13876  {'danceability': 0.48, 'energy': 0.829, 'key':...  \n",
       "\n",
       "[13877 rows x 3 columns]"
      ]
     },
     "execution_count": 41,
     "metadata": {},
     "output_type": "execute_result"
    }
   ],
   "source": [
    "playlist"
   ]
  },
  {
   "cell_type": "markdown",
   "id": "75c0dd3d",
   "metadata": {},
   "source": [
    " "
   ]
  },
  {
   "cell_type": "code",
   "execution_count": 42,
   "id": "d35e5dcc",
   "metadata": {},
   "outputs": [],
   "source": [
    "#creating new dataframes with the features in their own columns\n",
    "playlistfeatures = pd.DataFrame.from_records(playlist.features.dropna().tolist())"
   ]
  },
  {
   "cell_type": "code",
   "execution_count": 45,
   "id": "f4d071f6",
   "metadata": {},
   "outputs": [
    {
     "data": {
      "text/html": [
       "<div>\n",
       "<style scoped>\n",
       "    .dataframe tbody tr th:only-of-type {\n",
       "        vertical-align: middle;\n",
       "    }\n",
       "\n",
       "    .dataframe tbody tr th {\n",
       "        vertical-align: top;\n",
       "    }\n",
       "\n",
       "    .dataframe thead th {\n",
       "        text-align: right;\n",
       "    }\n",
       "</style>\n",
       "<table border=\"1\" class=\"dataframe\">\n",
       "  <thead>\n",
       "    <tr style=\"text-align: right;\">\n",
       "      <th></th>\n",
       "      <th>danceability</th>\n",
       "      <th>energy</th>\n",
       "      <th>key</th>\n",
       "      <th>loudness</th>\n",
       "      <th>mode</th>\n",
       "      <th>speechiness</th>\n",
       "      <th>acousticness</th>\n",
       "      <th>instrumentalness</th>\n",
       "      <th>liveness</th>\n",
       "      <th>valence</th>\n",
       "      <th>tempo</th>\n",
       "      <th>type</th>\n",
       "      <th>id</th>\n",
       "      <th>uri</th>\n",
       "      <th>track_href</th>\n",
       "      <th>analysis_url</th>\n",
       "      <th>duration_ms</th>\n",
       "      <th>time_signature</th>\n",
       "    </tr>\n",
       "  </thead>\n",
       "  <tbody>\n",
       "    <tr>\n",
       "      <th>0</th>\n",
       "      <td>0.670</td>\n",
       "      <td>0.776</td>\n",
       "      <td>9</td>\n",
       "      <td>-5.874</td>\n",
       "      <td>1</td>\n",
       "      <td>0.0356</td>\n",
       "      <td>0.0184</td>\n",
       "      <td>0.002940</td>\n",
       "      <td>0.1280</td>\n",
       "      <td>0.703</td>\n",
       "      <td>130.128</td>\n",
       "      <td>audio_features</td>\n",
       "      <td>5RYLa5P4qweEAKq5U1gdcK</td>\n",
       "      <td>spotify:track:5RYLa5P4qweEAKq5U1gdcK</td>\n",
       "      <td>https://api.spotify.com/v1/tracks/5RYLa5P4qweE...</td>\n",
       "      <td>https://api.spotify.com/v1/audio-analysis/5RYL...</td>\n",
       "      <td>264253</td>\n",
       "      <td>4</td>\n",
       "    </tr>\n",
       "    <tr>\n",
       "      <th>1</th>\n",
       "      <td>0.414</td>\n",
       "      <td>0.404</td>\n",
       "      <td>0</td>\n",
       "      <td>-9.928</td>\n",
       "      <td>0</td>\n",
       "      <td>0.0499</td>\n",
       "      <td>0.2710</td>\n",
       "      <td>0.000000</td>\n",
       "      <td>0.3000</td>\n",
       "      <td>0.224</td>\n",
       "      <td>71.105</td>\n",
       "      <td>audio_features</td>\n",
       "      <td>4u7EnebtmKWzUH433cf5Qv</td>\n",
       "      <td>spotify:track:4u7EnebtmKWzUH433cf5Qv</td>\n",
       "      <td>https://api.spotify.com/v1/tracks/4u7EnebtmKWz...</td>\n",
       "      <td>https://api.spotify.com/v1/audio-analysis/4u7E...</td>\n",
       "      <td>354320</td>\n",
       "      <td>4</td>\n",
       "    </tr>\n",
       "    <tr>\n",
       "      <th>2</th>\n",
       "      <td>0.933</td>\n",
       "      <td>0.528</td>\n",
       "      <td>5</td>\n",
       "      <td>-6.472</td>\n",
       "      <td>0</td>\n",
       "      <td>0.1610</td>\n",
       "      <td>0.1120</td>\n",
       "      <td>0.312000</td>\n",
       "      <td>0.1630</td>\n",
       "      <td>0.754</td>\n",
       "      <td>109.967</td>\n",
       "      <td>audio_features</td>\n",
       "      <td>5vdp5UmvTsnMEMESIF2Ym7</td>\n",
       "      <td>spotify:track:5vdp5UmvTsnMEMESIF2Ym7</td>\n",
       "      <td>https://api.spotify.com/v1/tracks/5vdp5UmvTsnM...</td>\n",
       "      <td>https://api.spotify.com/v1/audio-analysis/5vdp...</td>\n",
       "      <td>214653</td>\n",
       "      <td>4</td>\n",
       "    </tr>\n",
       "    <tr>\n",
       "      <th>3</th>\n",
       "      <td>0.559</td>\n",
       "      <td>0.868</td>\n",
       "      <td>5</td>\n",
       "      <td>-5.276</td>\n",
       "      <td>1</td>\n",
       "      <td>0.1700</td>\n",
       "      <td>0.0475</td>\n",
       "      <td>0.000176</td>\n",
       "      <td>0.7760</td>\n",
       "      <td>0.609</td>\n",
       "      <td>156.295</td>\n",
       "      <td>audio_features</td>\n",
       "      <td>5T8EDUDqKcs6OSOwEsfqG7</td>\n",
       "      <td>spotify:track:5T8EDUDqKcs6OSOwEsfqG7</td>\n",
       "      <td>https://api.spotify.com/v1/tracks/5T8EDUDqKcs6...</td>\n",
       "      <td>https://api.spotify.com/v1/audio-analysis/5T8E...</td>\n",
       "      <td>209413</td>\n",
       "      <td>4</td>\n",
       "    </tr>\n",
       "    <tr>\n",
       "      <th>4</th>\n",
       "      <td>0.671</td>\n",
       "      <td>0.712</td>\n",
       "      <td>2</td>\n",
       "      <td>-7.815</td>\n",
       "      <td>1</td>\n",
       "      <td>0.0476</td>\n",
       "      <td>0.4290</td>\n",
       "      <td>0.000000</td>\n",
       "      <td>0.1030</td>\n",
       "      <td>0.462</td>\n",
       "      <td>113.805</td>\n",
       "      <td>audio_features</td>\n",
       "      <td>2fuCquhmrzHpu5xcA1ci9x</td>\n",
       "      <td>spotify:track:2fuCquhmrzHpu5xcA1ci9x</td>\n",
       "      <td>https://api.spotify.com/v1/tracks/2fuCquhmrzHp...</td>\n",
       "      <td>https://api.spotify.com/v1/audio-analysis/2fuC...</td>\n",
       "      <td>248440</td>\n",
       "      <td>4</td>\n",
       "    </tr>\n",
       "    <tr>\n",
       "      <th>...</th>\n",
       "      <td>...</td>\n",
       "      <td>...</td>\n",
       "      <td>...</td>\n",
       "      <td>...</td>\n",
       "      <td>...</td>\n",
       "      <td>...</td>\n",
       "      <td>...</td>\n",
       "      <td>...</td>\n",
       "      <td>...</td>\n",
       "      <td>...</td>\n",
       "      <td>...</td>\n",
       "      <td>...</td>\n",
       "      <td>...</td>\n",
       "      <td>...</td>\n",
       "      <td>...</td>\n",
       "      <td>...</td>\n",
       "      <td>...</td>\n",
       "      <td>...</td>\n",
       "    </tr>\n",
       "    <tr>\n",
       "      <th>13872</th>\n",
       "      <td>0.429</td>\n",
       "      <td>0.581</td>\n",
       "      <td>2</td>\n",
       "      <td>-4.839</td>\n",
       "      <td>1</td>\n",
       "      <td>0.0297</td>\n",
       "      <td>0.2110</td>\n",
       "      <td>0.000000</td>\n",
       "      <td>0.0837</td>\n",
       "      <td>0.136</td>\n",
       "      <td>128.104</td>\n",
       "      <td>audio_features</td>\n",
       "      <td>0TrRFrKpAisDp6hAZMliLy</td>\n",
       "      <td>spotify:track:0TrRFrKpAisDp6hAZMliLy</td>\n",
       "      <td>https://api.spotify.com/v1/tracks/0TrRFrKpAisD...</td>\n",
       "      <td>https://api.spotify.com/v1/audio-analysis/0TrR...</td>\n",
       "      <td>267333</td>\n",
       "      <td>4</td>\n",
       "    </tr>\n",
       "    <tr>\n",
       "      <th>13873</th>\n",
       "      <td>0.312</td>\n",
       "      <td>0.443</td>\n",
       "      <td>2</td>\n",
       "      <td>-5.640</td>\n",
       "      <td>0</td>\n",
       "      <td>0.0310</td>\n",
       "      <td>0.4590</td>\n",
       "      <td>0.000000</td>\n",
       "      <td>0.1000</td>\n",
       "      <td>0.312</td>\n",
       "      <td>151.005</td>\n",
       "      <td>audio_features</td>\n",
       "      <td>6zPwnKp2kMHP4OFYfrY67q</td>\n",
       "      <td>spotify:track:6zPwnKp2kMHP4OFYfrY67q</td>\n",
       "      <td>https://api.spotify.com/v1/tracks/6zPwnKp2kMHP...</td>\n",
       "      <td>https://api.spotify.com/v1/audio-analysis/6zPw...</td>\n",
       "      <td>273400</td>\n",
       "      <td>3</td>\n",
       "    </tr>\n",
       "    <tr>\n",
       "      <th>13874</th>\n",
       "      <td>0.371</td>\n",
       "      <td>0.860</td>\n",
       "      <td>11</td>\n",
       "      <td>-3.263</td>\n",
       "      <td>0</td>\n",
       "      <td>0.0464</td>\n",
       "      <td>0.0226</td>\n",
       "      <td>0.000000</td>\n",
       "      <td>0.3160</td>\n",
       "      <td>0.376</td>\n",
       "      <td>137.405</td>\n",
       "      <td>audio_features</td>\n",
       "      <td>4HHIVS7mHAXqXVebo3k5Um</td>\n",
       "      <td>spotify:track:4HHIVS7mHAXqXVebo3k5Um</td>\n",
       "      <td>https://api.spotify.com/v1/tracks/4HHIVS7mHAXq...</td>\n",
       "      <td>https://api.spotify.com/v1/audio-analysis/4HHI...</td>\n",
       "      <td>240120</td>\n",
       "      <td>4</td>\n",
       "    </tr>\n",
       "    <tr>\n",
       "      <th>13875</th>\n",
       "      <td>0.622</td>\n",
       "      <td>0.832</td>\n",
       "      <td>6</td>\n",
       "      <td>-4.289</td>\n",
       "      <td>0</td>\n",
       "      <td>0.0375</td>\n",
       "      <td>0.2400</td>\n",
       "      <td>0.000000</td>\n",
       "      <td>0.2850</td>\n",
       "      <td>0.563</td>\n",
       "      <td>112.024</td>\n",
       "      <td>audio_features</td>\n",
       "      <td>07xh9cA0QBjWfrZ7xQ62hI</td>\n",
       "      <td>spotify:track:07xh9cA0QBjWfrZ7xQ62hI</td>\n",
       "      <td>https://api.spotify.com/v1/tracks/07xh9cA0QBjW...</td>\n",
       "      <td>https://api.spotify.com/v1/audio-analysis/07xh...</td>\n",
       "      <td>183040</td>\n",
       "      <td>4</td>\n",
       "    </tr>\n",
       "    <tr>\n",
       "      <th>13876</th>\n",
       "      <td>0.480</td>\n",
       "      <td>0.829</td>\n",
       "      <td>7</td>\n",
       "      <td>-6.302</td>\n",
       "      <td>0</td>\n",
       "      <td>0.0520</td>\n",
       "      <td>0.0299</td>\n",
       "      <td>0.000000</td>\n",
       "      <td>0.0978</td>\n",
       "      <td>0.548</td>\n",
       "      <td>162.942</td>\n",
       "      <td>audio_features</td>\n",
       "      <td>5dsYVdaWnWIRm419kNBbag</td>\n",
       "      <td>spotify:track:5dsYVdaWnWIRm419kNBbag</td>\n",
       "      <td>https://api.spotify.com/v1/tracks/5dsYVdaWnWIR...</td>\n",
       "      <td>https://api.spotify.com/v1/audio-analysis/5dsY...</td>\n",
       "      <td>202440</td>\n",
       "      <td>3</td>\n",
       "    </tr>\n",
       "  </tbody>\n",
       "</table>\n",
       "<p>13877 rows × 18 columns</p>\n",
       "</div>"
      ],
      "text/plain": [
       "       danceability  energy  key  loudness  mode  speechiness  acousticness  \\\n",
       "0             0.670   0.776    9    -5.874     1       0.0356        0.0184   \n",
       "1             0.414   0.404    0    -9.928     0       0.0499        0.2710   \n",
       "2             0.933   0.528    5    -6.472     0       0.1610        0.1120   \n",
       "3             0.559   0.868    5    -5.276     1       0.1700        0.0475   \n",
       "4             0.671   0.712    2    -7.815     1       0.0476        0.4290   \n",
       "...             ...     ...  ...       ...   ...          ...           ...   \n",
       "13872         0.429   0.581    2    -4.839     1       0.0297        0.2110   \n",
       "13873         0.312   0.443    2    -5.640     0       0.0310        0.4590   \n",
       "13874         0.371   0.860   11    -3.263     0       0.0464        0.0226   \n",
       "13875         0.622   0.832    6    -4.289     0       0.0375        0.2400   \n",
       "13876         0.480   0.829    7    -6.302     0       0.0520        0.0299   \n",
       "\n",
       "       instrumentalness  liveness  valence    tempo            type  \\\n",
       "0              0.002940    0.1280    0.703  130.128  audio_features   \n",
       "1              0.000000    0.3000    0.224   71.105  audio_features   \n",
       "2              0.312000    0.1630    0.754  109.967  audio_features   \n",
       "3              0.000176    0.7760    0.609  156.295  audio_features   \n",
       "4              0.000000    0.1030    0.462  113.805  audio_features   \n",
       "...                 ...       ...      ...      ...             ...   \n",
       "13872          0.000000    0.0837    0.136  128.104  audio_features   \n",
       "13873          0.000000    0.1000    0.312  151.005  audio_features   \n",
       "13874          0.000000    0.3160    0.376  137.405  audio_features   \n",
       "13875          0.000000    0.2850    0.563  112.024  audio_features   \n",
       "13876          0.000000    0.0978    0.548  162.942  audio_features   \n",
       "\n",
       "                           id                                   uri  \\\n",
       "0      5RYLa5P4qweEAKq5U1gdcK  spotify:track:5RYLa5P4qweEAKq5U1gdcK   \n",
       "1      4u7EnebtmKWzUH433cf5Qv  spotify:track:4u7EnebtmKWzUH433cf5Qv   \n",
       "2      5vdp5UmvTsnMEMESIF2Ym7  spotify:track:5vdp5UmvTsnMEMESIF2Ym7   \n",
       "3      5T8EDUDqKcs6OSOwEsfqG7  spotify:track:5T8EDUDqKcs6OSOwEsfqG7   \n",
       "4      2fuCquhmrzHpu5xcA1ci9x  spotify:track:2fuCquhmrzHpu5xcA1ci9x   \n",
       "...                       ...                                   ...   \n",
       "13872  0TrRFrKpAisDp6hAZMliLy  spotify:track:0TrRFrKpAisDp6hAZMliLy   \n",
       "13873  6zPwnKp2kMHP4OFYfrY67q  spotify:track:6zPwnKp2kMHP4OFYfrY67q   \n",
       "13874  4HHIVS7mHAXqXVebo3k5Um  spotify:track:4HHIVS7mHAXqXVebo3k5Um   \n",
       "13875  07xh9cA0QBjWfrZ7xQ62hI  spotify:track:07xh9cA0QBjWfrZ7xQ62hI   \n",
       "13876  5dsYVdaWnWIRm419kNBbag  spotify:track:5dsYVdaWnWIRm419kNBbag   \n",
       "\n",
       "                                              track_href  \\\n",
       "0      https://api.spotify.com/v1/tracks/5RYLa5P4qweE...   \n",
       "1      https://api.spotify.com/v1/tracks/4u7EnebtmKWz...   \n",
       "2      https://api.spotify.com/v1/tracks/5vdp5UmvTsnM...   \n",
       "3      https://api.spotify.com/v1/tracks/5T8EDUDqKcs6...   \n",
       "4      https://api.spotify.com/v1/tracks/2fuCquhmrzHp...   \n",
       "...                                                  ...   \n",
       "13872  https://api.spotify.com/v1/tracks/0TrRFrKpAisD...   \n",
       "13873  https://api.spotify.com/v1/tracks/6zPwnKp2kMHP...   \n",
       "13874  https://api.spotify.com/v1/tracks/4HHIVS7mHAXq...   \n",
       "13875  https://api.spotify.com/v1/tracks/07xh9cA0QBjW...   \n",
       "13876  https://api.spotify.com/v1/tracks/5dsYVdaWnWIR...   \n",
       "\n",
       "                                            analysis_url  duration_ms  \\\n",
       "0      https://api.spotify.com/v1/audio-analysis/5RYL...       264253   \n",
       "1      https://api.spotify.com/v1/audio-analysis/4u7E...       354320   \n",
       "2      https://api.spotify.com/v1/audio-analysis/5vdp...       214653   \n",
       "3      https://api.spotify.com/v1/audio-analysis/5T8E...       209413   \n",
       "4      https://api.spotify.com/v1/audio-analysis/2fuC...       248440   \n",
       "...                                                  ...          ...   \n",
       "13872  https://api.spotify.com/v1/audio-analysis/0TrR...       267333   \n",
       "13873  https://api.spotify.com/v1/audio-analysis/6zPw...       273400   \n",
       "13874  https://api.spotify.com/v1/audio-analysis/4HHI...       240120   \n",
       "13875  https://api.spotify.com/v1/audio-analysis/07xh...       183040   \n",
       "13876  https://api.spotify.com/v1/audio-analysis/5dsY...       202440   \n",
       "\n",
       "       time_signature  \n",
       "0                   4  \n",
       "1                   4  \n",
       "2                   4  \n",
       "3                   4  \n",
       "4                   4  \n",
       "...               ...  \n",
       "13872               4  \n",
       "13873               3  \n",
       "13874               4  \n",
       "13875               4  \n",
       "13876               3  \n",
       "\n",
       "[13877 rows x 18 columns]"
      ]
     },
     "execution_count": 45,
     "metadata": {},
     "output_type": "execute_result"
    }
   ],
   "source": [
    "playlistfeatures"
   ]
  },
  {
   "cell_type": "markdown",
   "id": "d25da51c",
   "metadata": {},
   "source": [
    " "
   ]
  },
  {
   "cell_type": "markdown",
   "id": "545cb670",
   "metadata": {},
   "source": [
    "**Concatenating the features dataframes with that of the song names and artists.**"
   ]
  },
  {
   "cell_type": "code",
   "execution_count": 48,
   "id": "2d4c1a80",
   "metadata": {},
   "outputs": [
    {
     "data": {
      "text/html": [
       "<div>\n",
       "<style scoped>\n",
       "    .dataframe tbody tr th:only-of-type {\n",
       "        vertical-align: middle;\n",
       "    }\n",
       "\n",
       "    .dataframe tbody tr th {\n",
       "        vertical-align: top;\n",
       "    }\n",
       "\n",
       "    .dataframe thead th {\n",
       "        text-align: right;\n",
       "    }\n",
       "</style>\n",
       "<table border=\"1\" class=\"dataframe\">\n",
       "  <thead>\n",
       "    <tr style=\"text-align: right;\">\n",
       "      <th></th>\n",
       "      <th>artist</th>\n",
       "      <th>song</th>\n",
       "      <th>danceability</th>\n",
       "      <th>energy</th>\n",
       "      <th>loudness</th>\n",
       "      <th>speechiness</th>\n",
       "      <th>acousticness</th>\n",
       "      <th>instrumentalness</th>\n",
       "      <th>liveness</th>\n",
       "      <th>valence</th>\n",
       "      <th>tempo</th>\n",
       "    </tr>\n",
       "  </thead>\n",
       "  <tbody>\n",
       "    <tr>\n",
       "      <th>0</th>\n",
       "      <td>Queen</td>\n",
       "      <td>A Kind Of Magic - Remastered 2011</td>\n",
       "      <td>0.670</td>\n",
       "      <td>0.776</td>\n",
       "      <td>-5.874</td>\n",
       "      <td>0.0356</td>\n",
       "      <td>0.0184</td>\n",
       "      <td>0.002940</td>\n",
       "      <td>0.1280</td>\n",
       "      <td>0.703</td>\n",
       "      <td>130.128</td>\n",
       "    </tr>\n",
       "    <tr>\n",
       "      <th>1</th>\n",
       "      <td>Queen</td>\n",
       "      <td>Bohemian Rhapsody - Remastered 2011</td>\n",
       "      <td>0.414</td>\n",
       "      <td>0.404</td>\n",
       "      <td>-9.928</td>\n",
       "      <td>0.0499</td>\n",
       "      <td>0.2710</td>\n",
       "      <td>0.000000</td>\n",
       "      <td>0.3000</td>\n",
       "      <td>0.224</td>\n",
       "      <td>71.105</td>\n",
       "    </tr>\n",
       "    <tr>\n",
       "      <th>2</th>\n",
       "      <td>Queen</td>\n",
       "      <td>Another One Bites The Dust - Remastered 2011</td>\n",
       "      <td>0.933</td>\n",
       "      <td>0.528</td>\n",
       "      <td>-6.472</td>\n",
       "      <td>0.1610</td>\n",
       "      <td>0.1120</td>\n",
       "      <td>0.312000</td>\n",
       "      <td>0.1630</td>\n",
       "      <td>0.754</td>\n",
       "      <td>109.967</td>\n",
       "    </tr>\n",
       "    <tr>\n",
       "      <th>3</th>\n",
       "      <td>Queen</td>\n",
       "      <td>Don't Stop Me Now - Remastered 2011</td>\n",
       "      <td>0.559</td>\n",
       "      <td>0.868</td>\n",
       "      <td>-5.276</td>\n",
       "      <td>0.1700</td>\n",
       "      <td>0.0475</td>\n",
       "      <td>0.000176</td>\n",
       "      <td>0.7760</td>\n",
       "      <td>0.609</td>\n",
       "      <td>156.295</td>\n",
       "    </tr>\n",
       "    <tr>\n",
       "      <th>4</th>\n",
       "      <td>Queen</td>\n",
       "      <td>Under Pressure - Remastered 2011</td>\n",
       "      <td>0.671</td>\n",
       "      <td>0.712</td>\n",
       "      <td>-7.815</td>\n",
       "      <td>0.0476</td>\n",
       "      <td>0.4290</td>\n",
       "      <td>0.000000</td>\n",
       "      <td>0.1030</td>\n",
       "      <td>0.462</td>\n",
       "      <td>113.805</td>\n",
       "    </tr>\n",
       "    <tr>\n",
       "      <th>...</th>\n",
       "      <td>...</td>\n",
       "      <td>...</td>\n",
       "      <td>...</td>\n",
       "      <td>...</td>\n",
       "      <td>...</td>\n",
       "      <td>...</td>\n",
       "      <td>...</td>\n",
       "      <td>...</td>\n",
       "      <td>...</td>\n",
       "      <td>...</td>\n",
       "      <td>...</td>\n",
       "    </tr>\n",
       "    <tr>\n",
       "      <th>13872</th>\n",
       "      <td>Chris Cornell</td>\n",
       "      <td>Silence The Voices</td>\n",
       "      <td>0.429</td>\n",
       "      <td>0.581</td>\n",
       "      <td>-4.839</td>\n",
       "      <td>0.0297</td>\n",
       "      <td>0.2110</td>\n",
       "      <td>0.000000</td>\n",
       "      <td>0.0837</td>\n",
       "      <td>0.136</td>\n",
       "      <td>128.104</td>\n",
       "    </tr>\n",
       "    <tr>\n",
       "      <th>13873</th>\n",
       "      <td>Chris Cornell</td>\n",
       "      <td>Disappearing Act</td>\n",
       "      <td>0.312</td>\n",
       "      <td>0.443</td>\n",
       "      <td>-5.640</td>\n",
       "      <td>0.0310</td>\n",
       "      <td>0.4590</td>\n",
       "      <td>0.000000</td>\n",
       "      <td>0.1000</td>\n",
       "      <td>0.312</td>\n",
       "      <td>151.005</td>\n",
       "    </tr>\n",
       "    <tr>\n",
       "      <th>13874</th>\n",
       "      <td>Chris Cornell</td>\n",
       "      <td>You Know My Name - From \"Casino Royale\" Soundt...</td>\n",
       "      <td>0.371</td>\n",
       "      <td>0.860</td>\n",
       "      <td>-3.263</td>\n",
       "      <td>0.0464</td>\n",
       "      <td>0.0226</td>\n",
       "      <td>0.000000</td>\n",
       "      <td>0.3160</td>\n",
       "      <td>0.376</td>\n",
       "      <td>137.405</td>\n",
       "    </tr>\n",
       "    <tr>\n",
       "      <th>13875</th>\n",
       "      <td>Chris Cornell</td>\n",
       "      <td>Today - Non-LP Version</td>\n",
       "      <td>0.622</td>\n",
       "      <td>0.832</td>\n",
       "      <td>-4.289</td>\n",
       "      <td>0.0375</td>\n",
       "      <td>0.2400</td>\n",
       "      <td>0.000000</td>\n",
       "      <td>0.2850</td>\n",
       "      <td>0.563</td>\n",
       "      <td>112.024</td>\n",
       "    </tr>\n",
       "    <tr>\n",
       "      <th>13876</th>\n",
       "      <td>Chris Cornell</td>\n",
       "      <td>Can't Change Me</td>\n",
       "      <td>0.480</td>\n",
       "      <td>0.829</td>\n",
       "      <td>-6.302</td>\n",
       "      <td>0.0520</td>\n",
       "      <td>0.0299</td>\n",
       "      <td>0.000000</td>\n",
       "      <td>0.0978</td>\n",
       "      <td>0.548</td>\n",
       "      <td>162.942</td>\n",
       "    </tr>\n",
       "  </tbody>\n",
       "</table>\n",
       "<p>13877 rows × 11 columns</p>\n",
       "</div>"
      ],
      "text/plain": [
       "              artist                                               song  \\\n",
       "0              Queen                  A Kind Of Magic - Remastered 2011   \n",
       "1              Queen                Bohemian Rhapsody - Remastered 2011   \n",
       "2              Queen       Another One Bites The Dust - Remastered 2011   \n",
       "3              Queen                Don't Stop Me Now - Remastered 2011   \n",
       "4              Queen                   Under Pressure - Remastered 2011   \n",
       "...              ...                                                ...   \n",
       "13872  Chris Cornell                                 Silence The Voices   \n",
       "13873  Chris Cornell                                   Disappearing Act   \n",
       "13874  Chris Cornell  You Know My Name - From \"Casino Royale\" Soundt...   \n",
       "13875  Chris Cornell                             Today - Non-LP Version   \n",
       "13876  Chris Cornell                                    Can't Change Me   \n",
       "\n",
       "       danceability  energy  loudness  speechiness  acousticness  \\\n",
       "0             0.670   0.776    -5.874       0.0356        0.0184   \n",
       "1             0.414   0.404    -9.928       0.0499        0.2710   \n",
       "2             0.933   0.528    -6.472       0.1610        0.1120   \n",
       "3             0.559   0.868    -5.276       0.1700        0.0475   \n",
       "4             0.671   0.712    -7.815       0.0476        0.4290   \n",
       "...             ...     ...       ...          ...           ...   \n",
       "13872         0.429   0.581    -4.839       0.0297        0.2110   \n",
       "13873         0.312   0.443    -5.640       0.0310        0.4590   \n",
       "13874         0.371   0.860    -3.263       0.0464        0.0226   \n",
       "13875         0.622   0.832    -4.289       0.0375        0.2400   \n",
       "13876         0.480   0.829    -6.302       0.0520        0.0299   \n",
       "\n",
       "       instrumentalness  liveness  valence    tempo  \n",
       "0              0.002940    0.1280    0.703  130.128  \n",
       "1              0.000000    0.3000    0.224   71.105  \n",
       "2              0.312000    0.1630    0.754  109.967  \n",
       "3              0.000176    0.7760    0.609  156.295  \n",
       "4              0.000000    0.1030    0.462  113.805  \n",
       "...                 ...       ...      ...      ...  \n",
       "13872          0.000000    0.0837    0.136  128.104  \n",
       "13873          0.000000    0.1000    0.312  151.005  \n",
       "13874          0.000000    0.3160    0.376  137.405  \n",
       "13875          0.000000    0.2850    0.563  112.024  \n",
       "13876          0.000000    0.0978    0.548  162.942  \n",
       "\n",
       "[13877 rows x 11 columns]"
      ]
     },
     "execution_count": 48,
     "metadata": {},
     "output_type": "execute_result"
    }
   ],
   "source": [
    "#reset indices of both dataframes\n",
    "playlist = playlist.reset_index(drop = True)\n",
    "playlistfeatures = playlistfeatures.reset_index(drop = True)\n",
    "\n",
    "#concatenate dataframes and drop unnecessary columns, duplicates\n",
    "playlist_db = pd.concat([playlist,playlistfeatures], axis = 1)\n",
    "playlist_db = playlist_db.reset_index(drop = True)\n",
    "playlist_db = playlist_db.drop(columns = [\"features\",\"type\",\"track_href\",\"analysis_url\", 'key', 'id', 'uri', 'duration_ms','mode', 'time_signature'], axis=1)\n",
    "playlist_db "
   ]
  },
  {
   "cell_type": "code",
   "execution_count": 47,
   "id": "953b47b7",
   "metadata": {},
   "outputs": [
    {
     "data": {
      "text/plain": [
       "(13877, 11)"
      ]
     },
     "execution_count": 47,
     "metadata": {},
     "output_type": "execute_result"
    }
   ],
   "source": [
    "playlist_db.shape"
   ]
  },
  {
   "cell_type": "markdown",
   "id": "81083860",
   "metadata": {},
   "source": [
    " "
   ]
  },
  {
   "cell_type": "markdown",
   "id": "58468db3",
   "metadata": {},
   "source": [
    " "
   ]
  },
  {
   "cell_type": "markdown",
   "id": "f17250de",
   "metadata": {},
   "source": [
    "## Export dataframe to csv."
   ]
  },
  {
   "cell_type": "code",
   "execution_count": 49,
   "id": "3b046981",
   "metadata": {},
   "outputs": [],
   "source": [
    "playlist_db.to_csv('song_recommender_playlist.csv',index = False)"
   ]
  }
 ],
 "metadata": {
  "kernelspec": {
   "display_name": "Python 3 (ipykernel)",
   "language": "python",
   "name": "python3"
  },
  "language_info": {
   "codemirror_mode": {
    "name": "ipython",
    "version": 3
   },
   "file_extension": ".py",
   "mimetype": "text/x-python",
   "name": "python",
   "nbconvert_exporter": "python",
   "pygments_lexer": "ipython3",
   "version": "3.9.7"
  }
 },
 "nbformat": 4,
 "nbformat_minor": 5
}
