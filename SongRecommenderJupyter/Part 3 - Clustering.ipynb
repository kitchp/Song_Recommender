{
 "cells": [
  {
   "cell_type": "markdown",
   "id": "056a9023",
   "metadata": {},
   "source": [
    "# Import Libraries"
   ]
  },
  {
   "cell_type": "code",
   "execution_count": 46,
   "id": "d2bfec4b",
   "metadata": {},
   "outputs": [],
   "source": [
    "import pandas as pd\n",
    "import numpy as np\n",
    "import matplotlib.pyplot as plt\n",
    "from sklearn.preprocessing import StandardScaler\n",
    "from sklearn.metrics import silhouette_score\n",
    "from sklearn.model_selection import train_test_split\n",
    "from sklearn.decomposition import PCA    \n",
    "import matplotlib.pyplot as plt\n",
    "from sklearn.cluster import KMeans\n",
    "import spotipy\n",
    "from spotipy.oauth2 import SpotifyClientCredentials\n",
    "from sklearn.cluster import KMeans\n",
    "from random import randint\n",
    "import pickle"
   ]
  },
  {
   "cell_type": "markdown",
   "id": "e83cfd4c",
   "metadata": {},
   "source": [
    " "
   ]
  },
  {
   "cell_type": "markdown",
   "id": "a146617d",
   "metadata": {},
   "source": [
    "## Import data"
   ]
  },
  {
   "cell_type": "code",
   "execution_count": 4,
   "id": "7e59b538",
   "metadata": {},
   "outputs": [
    {
     "data": {
      "text/html": [
       "<div>\n",
       "<style scoped>\n",
       "    .dataframe tbody tr th:only-of-type {\n",
       "        vertical-align: middle;\n",
       "    }\n",
       "\n",
       "    .dataframe tbody tr th {\n",
       "        vertical-align: top;\n",
       "    }\n",
       "\n",
       "    .dataframe thead th {\n",
       "        text-align: right;\n",
       "    }\n",
       "</style>\n",
       "<table border=\"1\" class=\"dataframe\">\n",
       "  <thead>\n",
       "    <tr style=\"text-align: right;\">\n",
       "      <th></th>\n",
       "      <th>artist</th>\n",
       "      <th>song</th>\n",
       "      <th>danceability</th>\n",
       "      <th>energy</th>\n",
       "      <th>loudness</th>\n",
       "      <th>speechiness</th>\n",
       "      <th>acousticness</th>\n",
       "      <th>instrumentalness</th>\n",
       "      <th>liveness</th>\n",
       "      <th>valence</th>\n",
       "      <th>tempo</th>\n",
       "    </tr>\n",
       "  </thead>\n",
       "  <tbody>\n",
       "    <tr>\n",
       "      <th>0</th>\n",
       "      <td>Queen</td>\n",
       "      <td>A Kind Of Magic - Remastered 2011</td>\n",
       "      <td>0.670</td>\n",
       "      <td>0.7760</td>\n",
       "      <td>-5.874</td>\n",
       "      <td>0.0356</td>\n",
       "      <td>0.01840</td>\n",
       "      <td>0.002940</td>\n",
       "      <td>0.1280</td>\n",
       "      <td>0.703</td>\n",
       "      <td>130.128</td>\n",
       "    </tr>\n",
       "    <tr>\n",
       "      <th>1</th>\n",
       "      <td>Queen</td>\n",
       "      <td>Bohemian Rhapsody - Remastered 2011</td>\n",
       "      <td>0.414</td>\n",
       "      <td>0.4040</td>\n",
       "      <td>-9.928</td>\n",
       "      <td>0.0499</td>\n",
       "      <td>0.27100</td>\n",
       "      <td>0.000000</td>\n",
       "      <td>0.3000</td>\n",
       "      <td>0.224</td>\n",
       "      <td>71.105</td>\n",
       "    </tr>\n",
       "    <tr>\n",
       "      <th>2</th>\n",
       "      <td>Queen</td>\n",
       "      <td>Another One Bites The Dust - Remastered 2011</td>\n",
       "      <td>0.933</td>\n",
       "      <td>0.5280</td>\n",
       "      <td>-6.472</td>\n",
       "      <td>0.1610</td>\n",
       "      <td>0.11200</td>\n",
       "      <td>0.312000</td>\n",
       "      <td>0.1630</td>\n",
       "      <td>0.754</td>\n",
       "      <td>109.967</td>\n",
       "    </tr>\n",
       "    <tr>\n",
       "      <th>3</th>\n",
       "      <td>Queen</td>\n",
       "      <td>Don't Stop Me Now - Remastered 2011</td>\n",
       "      <td>0.559</td>\n",
       "      <td>0.8680</td>\n",
       "      <td>-5.276</td>\n",
       "      <td>0.1700</td>\n",
       "      <td>0.04750</td>\n",
       "      <td>0.000176</td>\n",
       "      <td>0.7760</td>\n",
       "      <td>0.609</td>\n",
       "      <td>156.295</td>\n",
       "    </tr>\n",
       "    <tr>\n",
       "      <th>4</th>\n",
       "      <td>Queen</td>\n",
       "      <td>Under Pressure - Remastered 2011</td>\n",
       "      <td>0.671</td>\n",
       "      <td>0.7120</td>\n",
       "      <td>-7.815</td>\n",
       "      <td>0.0476</td>\n",
       "      <td>0.42900</td>\n",
       "      <td>0.000000</td>\n",
       "      <td>0.1030</td>\n",
       "      <td>0.462</td>\n",
       "      <td>113.805</td>\n",
       "    </tr>\n",
       "    <tr>\n",
       "      <th>...</th>\n",
       "      <td>...</td>\n",
       "      <td>...</td>\n",
       "      <td>...</td>\n",
       "      <td>...</td>\n",
       "      <td>...</td>\n",
       "      <td>...</td>\n",
       "      <td>...</td>\n",
       "      <td>...</td>\n",
       "      <td>...</td>\n",
       "      <td>...</td>\n",
       "      <td>...</td>\n",
       "    </tr>\n",
       "    <tr>\n",
       "      <th>12603</th>\n",
       "      <td>Fleetwood Mac</td>\n",
       "      <td>Mystified</td>\n",
       "      <td>0.533</td>\n",
       "      <td>0.2510</td>\n",
       "      <td>-18.749</td>\n",
       "      <td>0.0275</td>\n",
       "      <td>0.73100</td>\n",
       "      <td>0.173000</td>\n",
       "      <td>0.0917</td>\n",
       "      <td>0.582</td>\n",
       "      <td>177.957</td>\n",
       "    </tr>\n",
       "    <tr>\n",
       "      <th>12604</th>\n",
       "      <td>Fleetwood Mac</td>\n",
       "      <td>Welcome To The Room...Sara</td>\n",
       "      <td>0.632</td>\n",
       "      <td>0.5550</td>\n",
       "      <td>-13.081</td>\n",
       "      <td>0.0409</td>\n",
       "      <td>0.11400</td>\n",
       "      <td>0.000003</td>\n",
       "      <td>0.2600</td>\n",
       "      <td>0.732</td>\n",
       "      <td>99.064</td>\n",
       "    </tr>\n",
       "    <tr>\n",
       "      <th>12605</th>\n",
       "      <td>Fleetwood Mac</td>\n",
       "      <td>Isn't It Midnight</td>\n",
       "      <td>0.469</td>\n",
       "      <td>0.7300</td>\n",
       "      <td>-11.890</td>\n",
       "      <td>0.0358</td>\n",
       "      <td>0.00264</td>\n",
       "      <td>0.048200</td>\n",
       "      <td>0.1500</td>\n",
       "      <td>0.573</td>\n",
       "      <td>145.781</td>\n",
       "    </tr>\n",
       "    <tr>\n",
       "      <th>12606</th>\n",
       "      <td>Fleetwood Mac</td>\n",
       "      <td>When I See You Again</td>\n",
       "      <td>0.544</td>\n",
       "      <td>0.0907</td>\n",
       "      <td>-20.015</td>\n",
       "      <td>0.0268</td>\n",
       "      <td>0.87200</td>\n",
       "      <td>0.000000</td>\n",
       "      <td>0.1030</td>\n",
       "      <td>0.103</td>\n",
       "      <td>79.789</td>\n",
       "    </tr>\n",
       "    <tr>\n",
       "      <th>12607</th>\n",
       "      <td>Fleetwood Mac</td>\n",
       "      <td>You And I, Part II</td>\n",
       "      <td>0.690</td>\n",
       "      <td>0.6270</td>\n",
       "      <td>-14.645</td>\n",
       "      <td>0.0363</td>\n",
       "      <td>0.06310</td>\n",
       "      <td>0.000019</td>\n",
       "      <td>0.0848</td>\n",
       "      <td>0.956</td>\n",
       "      <td>123.438</td>\n",
       "    </tr>\n",
       "  </tbody>\n",
       "</table>\n",
       "<p>12595 rows × 11 columns</p>\n",
       "</div>"
      ],
      "text/plain": [
       "              artist                                          song  \\\n",
       "0              Queen             A Kind Of Magic - Remastered 2011   \n",
       "1              Queen           Bohemian Rhapsody - Remastered 2011   \n",
       "2              Queen  Another One Bites The Dust - Remastered 2011   \n",
       "3              Queen           Don't Stop Me Now - Remastered 2011   \n",
       "4              Queen              Under Pressure - Remastered 2011   \n",
       "...              ...                                           ...   \n",
       "12603  Fleetwood Mac                                     Mystified   \n",
       "12604  Fleetwood Mac                    Welcome To The Room...Sara   \n",
       "12605  Fleetwood Mac                             Isn't It Midnight   \n",
       "12606  Fleetwood Mac                          When I See You Again   \n",
       "12607  Fleetwood Mac                            You And I, Part II   \n",
       "\n",
       "       danceability  energy  loudness  speechiness  acousticness  \\\n",
       "0             0.670  0.7760    -5.874       0.0356       0.01840   \n",
       "1             0.414  0.4040    -9.928       0.0499       0.27100   \n",
       "2             0.933  0.5280    -6.472       0.1610       0.11200   \n",
       "3             0.559  0.8680    -5.276       0.1700       0.04750   \n",
       "4             0.671  0.7120    -7.815       0.0476       0.42900   \n",
       "...             ...     ...       ...          ...           ...   \n",
       "12603         0.533  0.2510   -18.749       0.0275       0.73100   \n",
       "12604         0.632  0.5550   -13.081       0.0409       0.11400   \n",
       "12605         0.469  0.7300   -11.890       0.0358       0.00264   \n",
       "12606         0.544  0.0907   -20.015       0.0268       0.87200   \n",
       "12607         0.690  0.6270   -14.645       0.0363       0.06310   \n",
       "\n",
       "       instrumentalness  liveness  valence    tempo  \n",
       "0              0.002940    0.1280    0.703  130.128  \n",
       "1              0.000000    0.3000    0.224   71.105  \n",
       "2              0.312000    0.1630    0.754  109.967  \n",
       "3              0.000176    0.7760    0.609  156.295  \n",
       "4              0.000000    0.1030    0.462  113.805  \n",
       "...                 ...       ...      ...      ...  \n",
       "12603          0.173000    0.0917    0.582  177.957  \n",
       "12604          0.000003    0.2600    0.732   99.064  \n",
       "12605          0.048200    0.1500    0.573  145.781  \n",
       "12606          0.000000    0.1030    0.103   79.789  \n",
       "12607          0.000019    0.0848    0.956  123.438  \n",
       "\n",
       "[12595 rows x 11 columns]"
      ]
     },
     "execution_count": 4,
     "metadata": {},
     "output_type": "execute_result"
    }
   ],
   "source": [
    "#drop type column, track_href, key, id, uri, duration_ms, mode, time_signature and analysis url. They have a negative impact on the precision of the model.  \n",
    "final_p = pd.read_csv('song_recommender_playlist.csv')\n",
    "final_p = final_p.drop(columns= [\"type\",\"track_href\",\"analysis_url\", 'key', 'id', 'uri', 'duration_ms','mode', 'time_signature'], axis=1)\n",
    "final_p = final_p.dropna(subset = ['danceability', 'artist'])\n",
    "final_p"
   ]
  },
  {
   "cell_type": "markdown",
   "id": "18649dc6",
   "metadata": {},
   "source": [
    " "
   ]
  },
  {
   "cell_type": "markdown",
   "id": "bb45ca4d",
   "metadata": {},
   "source": [
    "## Xy Split"
   ]
  },
  {
   "cell_type": "markdown",
   "id": "5ee60ddf",
   "metadata": {},
   "source": [
    "This is not a necessary step in clustering, but we will require an output in the recommender. "
   ]
  },
  {
   "cell_type": "code",
   "execution_count": 5,
   "id": "24359efc",
   "metadata": {},
   "outputs": [],
   "source": [
    "X = final_p.select_dtypes(include=np.number)\n",
    "y = final_p[['song','artist']]"
   ]
  },
  {
   "cell_type": "markdown",
   "id": "54daf7f1",
   "metadata": {},
   "source": [
    " "
   ]
  },
  {
   "cell_type": "markdown",
   "id": "3e019442",
   "metadata": {},
   "source": [
    "**We have now isolated the features, and will scale them**"
   ]
  },
  {
   "cell_type": "code",
   "execution_count": 7,
   "id": "f1294ed6",
   "metadata": {},
   "outputs": [
    {
     "data": {
      "text/html": [
       "<div>\n",
       "<style scoped>\n",
       "    .dataframe tbody tr th:only-of-type {\n",
       "        vertical-align: middle;\n",
       "    }\n",
       "\n",
       "    .dataframe tbody tr th {\n",
       "        vertical-align: top;\n",
       "    }\n",
       "\n",
       "    .dataframe thead th {\n",
       "        text-align: right;\n",
       "    }\n",
       "</style>\n",
       "<table border=\"1\" class=\"dataframe\">\n",
       "  <thead>\n",
       "    <tr style=\"text-align: right;\">\n",
       "      <th></th>\n",
       "      <th>danceability</th>\n",
       "      <th>energy</th>\n",
       "      <th>loudness</th>\n",
       "      <th>speechiness</th>\n",
       "      <th>acousticness</th>\n",
       "      <th>instrumentalness</th>\n",
       "      <th>liveness</th>\n",
       "      <th>valence</th>\n",
       "      <th>tempo</th>\n",
       "    </tr>\n",
       "  </thead>\n",
       "  <tbody>\n",
       "    <tr>\n",
       "      <th>0</th>\n",
       "      <td>0.670</td>\n",
       "      <td>0.776</td>\n",
       "      <td>-5.874</td>\n",
       "      <td>0.0356</td>\n",
       "      <td>0.0184</td>\n",
       "      <td>0.002940</td>\n",
       "      <td>0.128</td>\n",
       "      <td>0.703</td>\n",
       "      <td>130.128</td>\n",
       "    </tr>\n",
       "    <tr>\n",
       "      <th>1</th>\n",
       "      <td>0.414</td>\n",
       "      <td>0.404</td>\n",
       "      <td>-9.928</td>\n",
       "      <td>0.0499</td>\n",
       "      <td>0.2710</td>\n",
       "      <td>0.000000</td>\n",
       "      <td>0.300</td>\n",
       "      <td>0.224</td>\n",
       "      <td>71.105</td>\n",
       "    </tr>\n",
       "    <tr>\n",
       "      <th>2</th>\n",
       "      <td>0.933</td>\n",
       "      <td>0.528</td>\n",
       "      <td>-6.472</td>\n",
       "      <td>0.1610</td>\n",
       "      <td>0.1120</td>\n",
       "      <td>0.312000</td>\n",
       "      <td>0.163</td>\n",
       "      <td>0.754</td>\n",
       "      <td>109.967</td>\n",
       "    </tr>\n",
       "    <tr>\n",
       "      <th>3</th>\n",
       "      <td>0.559</td>\n",
       "      <td>0.868</td>\n",
       "      <td>-5.276</td>\n",
       "      <td>0.1700</td>\n",
       "      <td>0.0475</td>\n",
       "      <td>0.000176</td>\n",
       "      <td>0.776</td>\n",
       "      <td>0.609</td>\n",
       "      <td>156.295</td>\n",
       "    </tr>\n",
       "    <tr>\n",
       "      <th>4</th>\n",
       "      <td>0.671</td>\n",
       "      <td>0.712</td>\n",
       "      <td>-7.815</td>\n",
       "      <td>0.0476</td>\n",
       "      <td>0.4290</td>\n",
       "      <td>0.000000</td>\n",
       "      <td>0.103</td>\n",
       "      <td>0.462</td>\n",
       "      <td>113.805</td>\n",
       "    </tr>\n",
       "  </tbody>\n",
       "</table>\n",
       "</div>"
      ],
      "text/plain": [
       "   danceability  energy  loudness  speechiness  acousticness  \\\n",
       "0         0.670   0.776    -5.874       0.0356        0.0184   \n",
       "1         0.414   0.404    -9.928       0.0499        0.2710   \n",
       "2         0.933   0.528    -6.472       0.1610        0.1120   \n",
       "3         0.559   0.868    -5.276       0.1700        0.0475   \n",
       "4         0.671   0.712    -7.815       0.0476        0.4290   \n",
       "\n",
       "   instrumentalness  liveness  valence    tempo  \n",
       "0          0.002940     0.128    0.703  130.128  \n",
       "1          0.000000     0.300    0.224   71.105  \n",
       "2          0.312000     0.163    0.754  109.967  \n",
       "3          0.000176     0.776    0.609  156.295  \n",
       "4          0.000000     0.103    0.462  113.805  "
      ]
     },
     "execution_count": 7,
     "metadata": {},
     "output_type": "execute_result"
    }
   ],
   "source": [
    "X.head()"
   ]
  },
  {
   "cell_type": "markdown",
   "id": "87d05038",
   "metadata": {},
   "source": [
    " "
   ]
  },
  {
   "cell_type": "markdown",
   "id": "d77c6777",
   "metadata": {},
   "source": [
    "Scaling the features"
   ]
  },
  {
   "cell_type": "code",
   "execution_count": 10,
   "id": "cc951833",
   "metadata": {},
   "outputs": [],
   "source": [
    "scaler = StandardScaler()\n",
    "\n",
    "X_scaler = scaler.fit(X)\n",
    "X_prep = X_scaler.transform(X)"
   ]
  },
  {
   "cell_type": "code",
   "execution_count": 11,
   "id": "3e9d6097",
   "metadata": {},
   "outputs": [
    {
     "data": {
      "text/html": [
       "<div>\n",
       "<style scoped>\n",
       "    .dataframe tbody tr th:only-of-type {\n",
       "        vertical-align: middle;\n",
       "    }\n",
       "\n",
       "    .dataframe tbody tr th {\n",
       "        vertical-align: top;\n",
       "    }\n",
       "\n",
       "    .dataframe thead th {\n",
       "        text-align: right;\n",
       "    }\n",
       "</style>\n",
       "<table border=\"1\" class=\"dataframe\">\n",
       "  <thead>\n",
       "    <tr style=\"text-align: right;\">\n",
       "      <th></th>\n",
       "      <th>danceability</th>\n",
       "      <th>energy</th>\n",
       "      <th>loudness</th>\n",
       "      <th>speechiness</th>\n",
       "      <th>acousticness</th>\n",
       "      <th>instrumentalness</th>\n",
       "      <th>liveness</th>\n",
       "      <th>valence</th>\n",
       "      <th>tempo</th>\n",
       "    </tr>\n",
       "  </thead>\n",
       "  <tbody>\n",
       "    <tr>\n",
       "      <th>0</th>\n",
       "      <td>0.799831</td>\n",
       "      <td>0.389792</td>\n",
       "      <td>0.580265</td>\n",
       "      <td>-0.441994</td>\n",
       "      <td>-0.751429</td>\n",
       "      <td>-0.444342</td>\n",
       "      <td>-0.428415</td>\n",
       "      <td>0.807231</td>\n",
       "      <td>0.320009</td>\n",
       "    </tr>\n",
       "    <tr>\n",
       "      <th>1</th>\n",
       "      <td>-0.729553</td>\n",
       "      <td>-1.199113</td>\n",
       "      <td>-0.488768</td>\n",
       "      <td>-0.263079</td>\n",
       "      <td>0.127655</td>\n",
       "      <td>-0.455817</td>\n",
       "      <td>0.601773</td>\n",
       "      <td>-1.111861</td>\n",
       "      <td>-1.776086</td>\n",
       "    </tr>\n",
       "    <tr>\n",
       "      <th>2</th>\n",
       "      <td>2.371035</td>\n",
       "      <td>-0.669478</td>\n",
       "      <td>0.422573</td>\n",
       "      <td>1.126955</td>\n",
       "      <td>-0.425688</td>\n",
       "      <td>0.761951</td>\n",
       "      <td>-0.218784</td>\n",
       "      <td>1.011561</td>\n",
       "      <td>-0.395973</td>\n",
       "    </tr>\n",
       "    <tr>\n",
       "      <th>3</th>\n",
       "      <td>0.136700</td>\n",
       "      <td>0.782747</td>\n",
       "      <td>0.737956</td>\n",
       "      <td>1.239560</td>\n",
       "      <td>-0.650157</td>\n",
       "      <td>-0.455130</td>\n",
       "      <td>3.452758</td>\n",
       "      <td>0.430624</td>\n",
       "      <td>1.249282</td>\n",
       "    </tr>\n",
       "    <tr>\n",
       "      <th>4</th>\n",
       "      <td>0.805806</td>\n",
       "      <td>0.116432</td>\n",
       "      <td>0.068426</td>\n",
       "      <td>-0.291855</td>\n",
       "      <td>0.677518</td>\n",
       "      <td>-0.455817</td>\n",
       "      <td>-0.578152</td>\n",
       "      <td>-0.158325</td>\n",
       "      <td>-0.259673</td>\n",
       "    </tr>\n",
       "  </tbody>\n",
       "</table>\n",
       "</div>"
      ],
      "text/plain": [
       "   danceability    energy  loudness  speechiness  acousticness  \\\n",
       "0      0.799831  0.389792  0.580265    -0.441994     -0.751429   \n",
       "1     -0.729553 -1.199113 -0.488768    -0.263079      0.127655   \n",
       "2      2.371035 -0.669478  0.422573     1.126955     -0.425688   \n",
       "3      0.136700  0.782747  0.737956     1.239560     -0.650157   \n",
       "4      0.805806  0.116432  0.068426    -0.291855      0.677518   \n",
       "\n",
       "   instrumentalness  liveness   valence     tempo  \n",
       "0         -0.444342 -0.428415  0.807231  0.320009  \n",
       "1         -0.455817  0.601773 -1.111861 -1.776086  \n",
       "2          0.761951 -0.218784  1.011561 -0.395973  \n",
       "3         -0.455130  3.452758  0.430624  1.249282  \n",
       "4         -0.455817 -0.578152 -0.158325 -0.259673  "
      ]
     },
     "execution_count": 11,
     "metadata": {},
     "output_type": "execute_result"
    }
   ],
   "source": [
    "pd.DataFrame(X_prep,columns=X.columns).head()"
   ]
  },
  {
   "cell_type": "markdown",
   "id": "2ee92002",
   "metadata": {},
   "source": [
    " "
   ]
  },
  {
   "cell_type": "markdown",
   "id": "bea5be7c",
   "metadata": {},
   "source": [
    " "
   ]
  },
  {
   "cell_type": "markdown",
   "id": "23541f24",
   "metadata": {},
   "source": [
    "## Determining number of Clusters"
   ]
  },
  {
   "cell_type": "markdown",
   "id": "d8571d59",
   "metadata": {},
   "source": [
    "### We have used PCA to determine the amount of clusters which will be required. "
   ]
  },
  {
   "cell_type": "code",
   "execution_count": 12,
   "id": "8379bd76",
   "metadata": {},
   "outputs": [
    {
     "data": {
      "image/png": "[encoded data removed]",
      "text/plain": [
       "<Figure size 640x480 with 1 Axes>"
      ]
     },
     "metadata": {},
     "output_type": "display_data"
    }
   ],
   "source": [
    "pca = PCA()\n",
    "pca.fit(X_prep)\n",
    "\n",
    "exp_var_pca = pca.explained_variance_ratio_\n",
    "cum_sum_eigenvalues = np.cumsum(exp_var_pca)\n",
    "\n",
    "plt.bar(range(0,len(exp_var_pca)), exp_var_pca, \n",
    "        alpha=0.5, align='center', label='Individual explained variance')\n",
    "plt.step(range(0,len(cum_sum_eigenvalues)), cum_sum_eigenvalues, \n",
    "         where='mid',label='Cumulative explained variance')\n",
    "plt.ylabel('Explained variance ratio')\n",
    "plt.xlabel('Principal component index')\n",
    "plt.legend(loc='best')\n",
    "plt.tight_layout()\n",
    "plt.show()"
   ]
  },
  {
   "cell_type": "markdown",
   "id": "651b09a6",
   "metadata": {},
   "source": [
    "So far, it looks like 8 clusters may be necessary. "
   ]
  },
  {
   "cell_type": "code",
   "execution_count": 20,
   "id": "299312d0",
   "metadata": {},
   "outputs": [
    {
     "data": {
      "text/plain": [
       "PCA(n_components=8)"
      ]
     },
     "execution_count": 20,
     "metadata": {},
     "output_type": "execute_result"
    }
   ],
   "source": [
    "pca = PCA(8)\n",
    "pca.fit(X_prep)"
   ]
  },
  {
   "cell_type": "code",
   "execution_count": 14,
   "id": "42166722",
   "metadata": {},
   "outputs": [
    {
     "data": {
      "text/plain": [
       "0.9816063908944237"
      ]
     },
     "execution_count": 14,
     "metadata": {},
     "output_type": "execute_result"
    }
   ],
   "source": [
    "pca.explained_variance_ratio_.sum()"
   ]
  },
  {
   "cell_type": "markdown",
   "id": "5ec45752",
   "metadata": {},
   "source": [
    "**Here we can see that using 8 clusters for the songs would account for 98% of the features** "
   ]
  },
  {
   "cell_type": "markdown",
   "id": "2a369976",
   "metadata": {},
   "source": [
    " "
   ]
  },
  {
   "cell_type": "markdown",
   "id": "8a318e4b",
   "metadata": {},
   "source": [
    "**Although 8 seems like the right number of clusters, we do have a high number of songs, and only splitting them into 8 different groupings may affect the accuracy of the recommender. We will check to see if there is a higher desired value by using the elbow method**"
   ]
  },
  {
   "cell_type": "markdown",
   "id": "d8b876ba",
   "metadata": {},
   "source": [
    " "
   ]
  },
  {
   "cell_type": "markdown",
   "id": "bd484f88",
   "metadata": {},
   "source": [
    "## Elbow Method"
   ]
  },
  {
   "cell_type": "code",
   "execution_count": 23,
   "id": "36dcfe5d",
   "metadata": {},
   "outputs": [
    {
     "data": {
      "text/plain": [
       "Text(0.5, 1.0, 'Elbow Method showing the optimal k')"
      ]
     },
     "execution_count": 23,
     "metadata": {},
     "output_type": "execute_result"
    },
    {
     "data": {
      "image/png": "[encoded data removed]",
      "text/plain": [
       "<Figure size 1600x800 with 1 Axes>"
      ]
     },
     "metadata": {},
     "output_type": "display_data"
    }
   ],
   "source": [
    "K = range(2, 50)\n",
    "inertia = []\n",
    "\n",
    "for k in K:\n",
    "    kmeans1 = KMeans(n_clusters=k,\n",
    "                    random_state=1234)\n",
    "    kmeans1.fit(X_prep)\n",
    "    inertia.append(kmeans1.inertia_)\n",
    "\n",
    "    \n",
    "%matplotlib inline\n",
    "\n",
    "plt.figure(figsize=(16,8))\n",
    "plt.plot(K, inertia, 'bx-')\n",
    "plt.xlabel('k')\n",
    "plt.ylabel('inertia')\n",
    "plt.xticks(np.arange(min(K), max(K)+1, 1.0))\n",
    "plt.title('Elbow Method showing the optimal k')"
   ]
  },
  {
   "cell_type": "markdown",
   "id": "c3e168dd",
   "metadata": {},
   "source": [
    "  "
   ]
  },
  {
   "cell_type": "markdown",
   "id": "4cc8e9ec",
   "metadata": {},
   "source": [
    "Here we have expanded the potential number of clusters to 50 in order to see whether there is much opportunity for a higher number of clusters in order to make our recommendations as accurate as poçssible. "
   ]
  },
  {
   "cell_type": "markdown",
   "id": "8f868d6c",
   "metadata": {},
   "source": [
    " "
   ]
  },
  {
   "cell_type": "markdown",
   "id": "d4bb2a89",
   "metadata": {},
   "source": [
    "## Fitting our Model"
   ]
  },
  {
   "cell_type": "markdown",
   "id": "5abd71b2",
   "metadata": {},
   "source": [
    "**After performing a primary component analysis (pca) on our data, we have decided on 16 clusters, and will fit our model accordingly**"
   ]
  },
  {
   "cell_type": "markdown",
   "id": "ade1cd2b",
   "metadata": {},
   "source": [
    " "
   ]
  },
  {
   "cell_type": "code",
   "execution_count": 44,
   "id": "269a22af",
   "metadata": {},
   "outputs": [
    {
     "data": {
      "text/plain": [
       "KMeans(n_clusters=16, random_state=1234)"
      ]
     },
     "execution_count": 44,
     "metadata": {},
     "output_type": "execute_result"
    }
   ],
   "source": [
    "kmeans = KMeans(n_clusters=16, random_state=1234)\n",
    "KM = kmeans.fit(X_prep)\n",
    "KM"
   ]
  },
  {
   "cell_type": "markdown",
   "id": "114a11b1",
   "metadata": {},
   "source": [
    " "
   ]
  },
  {
   "cell_type": "code",
   "execution_count": 37,
   "id": "9eb69ee7",
   "metadata": {},
   "outputs": [
    {
     "data": {
      "text/plain": [
       "0      672\n",
       "1      765\n",
       "2     1497\n",
       "3     1515\n",
       "4      656\n",
       "5      300\n",
       "6      569\n",
       "7       57\n",
       "8      629\n",
       "9      426\n",
       "10     582\n",
       "11    1250\n",
       "12    1070\n",
       "13    1031\n",
       "14     954\n",
       "15     622\n",
       "Name: count, dtype: int64"
      ]
     },
     "execution_count": 37,
     "metadata": {},
     "output_type": "execute_result"
    }
   ],
   "source": [
    "#We can check our cluster sizes\n",
    "clusters = kmeans.predict(X_prep)\n",
    "pd.Series(clusters).value_counts().sort_index()"
   ]
  },
  {
   "cell_type": "markdown",
   "id": "4c2bd6aa",
   "metadata": {},
   "source": [
    " "
   ]
  },
  {
   "cell_type": "code",
   "execution_count": 42,
   "id": "d61b04b6",
   "metadata": {},
   "outputs": [
    {
     "data": {
      "text/plain": [
       "array([ 3,  1,  8, 12, 14, 11, 10, 13,  2,  4,  9,  6, 15,  5,  0,  7],\n",
       "      dtype=int32)"
      ]
     },
     "execution_count": 42,
     "metadata": {},
     "output_type": "execute_result"
    }
   ],
   "source": [
    "#assign the clusters to the dataframe. \n",
    "final_p['cluster'] = clusters\n",
    "final_p['cluster'].unique()"
   ]
  },
  {
   "cell_type": "code",
   "execution_count": 41,
   "id": "53c6da02",
   "metadata": {},
   "outputs": [
    {
     "data": {
      "text/html": [
       "<div>\n",
       "<style scoped>\n",
       "    .dataframe tbody tr th:only-of-type {\n",
       "        vertical-align: middle;\n",
       "    }\n",
       "\n",
       "    .dataframe tbody tr th {\n",
       "        vertical-align: top;\n",
       "    }\n",
       "\n",
       "    .dataframe thead th {\n",
       "        text-align: right;\n",
       "    }\n",
       "</style>\n",
       "<table border=\"1\" class=\"dataframe\">\n",
       "  <thead>\n",
       "    <tr style=\"text-align: right;\">\n",
       "      <th></th>\n",
       "      <th>artist</th>\n",
       "      <th>song</th>\n",
       "      <th>danceability</th>\n",
       "      <th>energy</th>\n",
       "      <th>loudness</th>\n",
       "      <th>speechiness</th>\n",
       "      <th>acousticness</th>\n",
       "      <th>instrumentalness</th>\n",
       "      <th>liveness</th>\n",
       "      <th>valence</th>\n",
       "      <th>tempo</th>\n",
       "      <th>cluster</th>\n",
       "    </tr>\n",
       "  </thead>\n",
       "  <tbody>\n",
       "    <tr>\n",
       "      <th>0</th>\n",
       "      <td>Queen</td>\n",
       "      <td>A Kind Of Magic - Remastered 2011</td>\n",
       "      <td>0.670</td>\n",
       "      <td>0.776</td>\n",
       "      <td>-5.874</td>\n",
       "      <td>0.0356</td>\n",
       "      <td>0.0184</td>\n",
       "      <td>0.002940</td>\n",
       "      <td>0.128</td>\n",
       "      <td>0.703</td>\n",
       "      <td>130.128</td>\n",
       "      <td>3</td>\n",
       "    </tr>\n",
       "    <tr>\n",
       "      <th>1</th>\n",
       "      <td>Queen</td>\n",
       "      <td>Bohemian Rhapsody - Remastered 2011</td>\n",
       "      <td>0.414</td>\n",
       "      <td>0.404</td>\n",
       "      <td>-9.928</td>\n",
       "      <td>0.0499</td>\n",
       "      <td>0.2710</td>\n",
       "      <td>0.000000</td>\n",
       "      <td>0.300</td>\n",
       "      <td>0.224</td>\n",
       "      <td>71.105</td>\n",
       "      <td>1</td>\n",
       "    </tr>\n",
       "    <tr>\n",
       "      <th>2</th>\n",
       "      <td>Queen</td>\n",
       "      <td>Another One Bites The Dust - Remastered 2011</td>\n",
       "      <td>0.933</td>\n",
       "      <td>0.528</td>\n",
       "      <td>-6.472</td>\n",
       "      <td>0.1610</td>\n",
       "      <td>0.1120</td>\n",
       "      <td>0.312000</td>\n",
       "      <td>0.163</td>\n",
       "      <td>0.754</td>\n",
       "      <td>109.967</td>\n",
       "      <td>3</td>\n",
       "    </tr>\n",
       "    <tr>\n",
       "      <th>3</th>\n",
       "      <td>Queen</td>\n",
       "      <td>Don't Stop Me Now - Remastered 2011</td>\n",
       "      <td>0.559</td>\n",
       "      <td>0.868</td>\n",
       "      <td>-5.276</td>\n",
       "      <td>0.1700</td>\n",
       "      <td>0.0475</td>\n",
       "      <td>0.000176</td>\n",
       "      <td>0.776</td>\n",
       "      <td>0.609</td>\n",
       "      <td>156.295</td>\n",
       "      <td>8</td>\n",
       "    </tr>\n",
       "    <tr>\n",
       "      <th>4</th>\n",
       "      <td>Queen</td>\n",
       "      <td>Under Pressure - Remastered 2011</td>\n",
       "      <td>0.671</td>\n",
       "      <td>0.712</td>\n",
       "      <td>-7.815</td>\n",
       "      <td>0.0476</td>\n",
       "      <td>0.4290</td>\n",
       "      <td>0.000000</td>\n",
       "      <td>0.103</td>\n",
       "      <td>0.462</td>\n",
       "      <td>113.805</td>\n",
       "      <td>12</td>\n",
       "    </tr>\n",
       "  </tbody>\n",
       "</table>\n",
       "</div>"
      ],
      "text/plain": [
       "  artist                                          song  danceability  energy  \\\n",
       "0  Queen             A Kind Of Magic - Remastered 2011         0.670   0.776   \n",
       "1  Queen           Bohemian Rhapsody - Remastered 2011         0.414   0.404   \n",
       "2  Queen  Another One Bites The Dust - Remastered 2011         0.933   0.528   \n",
       "3  Queen           Don't Stop Me Now - Remastered 2011         0.559   0.868   \n",
       "4  Queen              Under Pressure - Remastered 2011         0.671   0.712   \n",
       "\n",
       "   loudness  speechiness  acousticness  instrumentalness  liveness  valence  \\\n",
       "0    -5.874       0.0356        0.0184          0.002940     0.128    0.703   \n",
       "1    -9.928       0.0499        0.2710          0.000000     0.300    0.224   \n",
       "2    -6.472       0.1610        0.1120          0.312000     0.163    0.754   \n",
       "3    -5.276       0.1700        0.0475          0.000176     0.776    0.609   \n",
       "4    -7.815       0.0476        0.4290          0.000000     0.103    0.462   \n",
       "\n",
       "     tempo  cluster  \n",
       "0  130.128        3  \n",
       "1   71.105        1  \n",
       "2  109.967        3  \n",
       "3  156.295        8  \n",
       "4  113.805       12  "
      ]
     },
     "execution_count": 41,
     "metadata": {},
     "output_type": "execute_result"
    }
   ],
   "source": [
    "final_p.head()"
   ]
  },
  {
   "cell_type": "markdown",
   "id": "2ac05d08",
   "metadata": {},
   "source": [
    "We can see above that the \"cluster\" column now contains different numbers, which will determine the groups in our model. "
   ]
  },
  {
   "cell_type": "markdown",
   "id": "18802123",
   "metadata": {},
   "source": [
    "## Export the clustered dataframe to a csv. "
   ]
  },
  {
   "cell_type": "code",
   "execution_count": 43,
   "id": "ab0519c5",
   "metadata": {},
   "outputs": [],
   "source": [
    "final_p.to_csv('spotify_songs_clusters.csv',index = False)"
   ]
  },
  {
   "cell_type": "code",
   "execution_count": null,
   "id": "8dbeb998",
   "metadata": {},
   "outputs": [],
   "source": []
  },
  {
   "cell_type": "markdown",
   "id": "49fa55c4",
   "metadata": {},
   "source": [
    "## Pickling models for future use in the song recommender algorithm"
   ]
  },
  {
   "cell_type": "code",
   "execution_count": null,
   "id": "62a38182",
   "metadata": {},
   "outputs": [],
   "source": []
  },
  {
   "cell_type": "markdown",
   "id": "a80a02f9",
   "metadata": {},
   "source": [
    "Pickle Kmeans"
   ]
  },
  {
   "cell_type": "code",
   "execution_count": 47,
   "id": "8c56700a",
   "metadata": {},
   "outputs": [],
   "source": [
    "#Saving the model to a file using pickle\n",
    "\n",
    "pickle.dump(KM, open('models_scalers/kmeans.pkl','wb'))"
   ]
  },
  {
   "cell_type": "markdown",
   "id": "cb2ef0e1",
   "metadata": {},
   "source": [
    " "
   ]
  },
  {
   "cell_type": "markdown",
   "id": "ccd3e98f",
   "metadata": {},
   "source": [
    "Pickle Scaler"
   ]
  },
  {
   "cell_type": "code",
   "execution_count": 48,
   "id": "975fc27a",
   "metadata": {},
   "outputs": [],
   "source": [
    "#Saving the model to a file using pickle\n",
    "\n",
    "pickle.dump(X_scaler, open('models_scalers/scaler.pkl','wb'))"
   ]
  },
  {
   "cell_type": "markdown",
   "id": "bbdfca35",
   "metadata": {},
   "source": [
    " "
   ]
  }
 ],
 "metadata": {
  "kernelspec": {
   "display_name": "Python 3 (ipykernel)",
   "language": "python",
   "name": "python3"
  },
  "language_info": {
   "codemirror_mode": {
    "name": "ipython",
    "version": 3
   },
   "file_extension": ".py",
   "mimetype": "text/x-python",
   "name": "python",
   "nbconvert_exporter": "python",
   "pygments_lexer": "ipython3",
   "version": "3.9.7"
  }
 },
 "nbformat": 4,
 "nbformat_minor": 5
}
