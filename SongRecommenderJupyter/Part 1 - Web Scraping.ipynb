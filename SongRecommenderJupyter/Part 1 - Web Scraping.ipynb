{
 "cells": [
  {
   "cell_type": "markdown",
   "id": "18310b05",
   "metadata": {},
   "source": [
    "# Web Scraping"
   ]
  },
  {
   "cell_type": "markdown",
   "id": "45a614e7",
   "metadata": {},
   "source": [
    "---"
   ]
  },
  {
   "cell_type": "markdown",
   "id": "d4a3fbad",
   "metadata": {},
   "source": [
    "### In this notebook, we will be scraping two individual lists:\n",
    "    \n",
    "    1. The current Top 100 songs.\n",
    "    2. The Top 100 songs in rock and pop from the 50s until present.\n",
    "    \n",
    "#### This will be done by using beautiful soup, and the resulting dataframe will serve as our top 200 hundred hot songs"
   ]
  },
  {
   "cell_type": "markdown",
   "id": "2094b413",
   "metadata": {},
   "source": [
    "---"
   ]
  },
  {
   "cell_type": "markdown",
   "id": "23e64964",
   "metadata": {},
   "source": [
    "## Import Libraries"
   ]
  },
  {
   "cell_type": "code",
   "execution_count": 1,
   "id": "bfa22c63",
   "metadata": {},
   "outputs": [],
   "source": [
    "from bs4 import BeautifulSoup\n",
    "import requests\n",
    "import pandas as pd"
   ]
  },
  {
   "cell_type": "markdown",
   "id": "0eaf4fc2",
   "metadata": {},
   "source": [
    " "
   ]
  },
  {
   "cell_type": "markdown",
   "id": "67f9f363",
   "metadata": {},
   "source": [
    "## Scraping Top 100 songs in October 2023"
   ]
  },
  {
   "cell_type": "markdown",
   "id": "c8ce6b62",
   "metadata": {},
   "source": [
    "For this first dataframe, we will be scraping the current top 100 songs. "
   ]
  },
  {
   "cell_type": "code",
   "execution_count": 2,
   "id": "ceffc96c",
   "metadata": {},
   "outputs": [],
   "source": [
    "#determine url\n",
    "url = \"https://www.popvortex.com/music/charts/top-100-songs.php\""
   ]
  },
  {
   "cell_type": "code",
   "execution_count": 3,
   "id": "9d2e1ba1",
   "metadata": {},
   "outputs": [
    {
     "data": {
      "text/plain": [
       "200"
      ]
     },
     "execution_count": 3,
     "metadata": {},
     "output_type": "execute_result"
    }
   ],
   "source": [
    "#get request\n",
    "response = requests.get(url)\n",
    "response.status_code"
   ]
  },
  {
   "cell_type": "markdown",
   "id": "19e1d021",
   "metadata": {},
   "source": [
    "'200' response, so we will be able to scrape the page via beatifulsoup"
   ]
  },
  {
   "cell_type": "markdown",
   "id": "eb779527",
   "metadata": {},
   "source": [
    " "
   ]
  },
  {
   "cell_type": "code",
   "execution_count": 4,
   "id": "221c9113",
   "metadata": {},
   "outputs": [],
   "source": [
    "#parse html content using beautiful soup. \n",
    "soup = BeautifulSoup(response.content, \"html.parser\")"
   ]
  },
  {
   "cell_type": "markdown",
   "id": "2bcfaa26",
   "metadata": {},
   "source": [
    " "
   ]
  },
  {
   "cell_type": "markdown",
   "id": "ed5a271a",
   "metadata": {},
   "source": [
    "**Extract the songs and artists from the webpage**"
   ]
  },
  {
   "cell_type": "code",
   "execution_count": 5,
   "id": "47bc85ed",
   "metadata": {},
   "outputs": [],
   "source": [
    "#divide the different criteria into a different lists to be put into our final dataframe\n",
    "\n",
    "artist = []\n",
    "song = []\n",
    "num_iter = len(\"body > div.container > div:nth-child(4) > div.col-xs-12.col-md-8 > div.chart-wrapper > div.feed-item\")\n",
    "\n",
    "songart = soup.select(\"body > div.container > div:nth-child(4) > div.col-xs-12.col-md-8 > div.chart-wrapper > div.feed-item\")\n",
    "\n",
    "for i in range(num_iter):\n",
    "    artist.append(songart[i].em.get_text().strip().lower())\n",
    "    song.append(songart[i].cite.get_text().strip().lower())\n",
    "    \n",
    "#Attribute the lists to a dataframe\n",
    "currenttop100 = pd.DataFrame({'artist':artist,'track':song})"
   ]
  },
  {
   "cell_type": "code",
   "execution_count": 6,
   "id": "d4421e6f",
   "metadata": {},
   "outputs": [
    {
     "data": {
      "text/html": [
       "<div>\n",
       "<style scoped>\n",
       "    .dataframe tbody tr th:only-of-type {\n",
       "        vertical-align: middle;\n",
       "    }\n",
       "\n",
       "    .dataframe tbody tr th {\n",
       "        vertical-align: top;\n",
       "    }\n",
       "\n",
       "    .dataframe thead th {\n",
       "        text-align: right;\n",
       "    }\n",
       "</style>\n",
       "<table border=\"1\" class=\"dataframe\">\n",
       "  <thead>\n",
       "    <tr style=\"text-align: right;\">\n",
       "      <th></th>\n",
       "      <th>artist</th>\n",
       "      <th>track</th>\n",
       "    </tr>\n",
       "  </thead>\n",
       "  <tbody>\n",
       "    <tr>\n",
       "      <th>0</th>\n",
       "      <td>dax</td>\n",
       "      <td>to be a man (feat. darius rucker)</td>\n",
       "    </tr>\n",
       "    <tr>\n",
       "      <th>1</th>\n",
       "      <td>ray parker jr.</td>\n",
       "      <td>ghostbusters</td>\n",
       "    </tr>\n",
       "    <tr>\n",
       "      <th>2</th>\n",
       "      <td>michael jackson</td>\n",
       "      <td>thriller</td>\n",
       "    </tr>\n",
       "    <tr>\n",
       "      <th>3</th>\n",
       "      <td>the citizens of halloween</td>\n",
       "      <td>this is halloween</td>\n",
       "    </tr>\n",
       "    <tr>\n",
       "      <th>4</th>\n",
       "      <td>paul russell</td>\n",
       "      <td>lil boo thang</td>\n",
       "    </tr>\n",
       "    <tr>\n",
       "      <th>...</th>\n",
       "      <td>...</td>\n",
       "      <td>...</td>\n",
       "    </tr>\n",
       "    <tr>\n",
       "      <th>95</th>\n",
       "      <td>noah kahan &amp; post malone</td>\n",
       "      <td>dial drunk</td>\n",
       "    </tr>\n",
       "    <tr>\n",
       "      <th>96</th>\n",
       "      <td>elevation worship</td>\n",
       "      <td>praise (feat. brandon lake, chris brown &amp; chan...</td>\n",
       "    </tr>\n",
       "    <tr>\n",
       "      <th>97</th>\n",
       "      <td>taylor swift</td>\n",
       "      <td>suburban legends (taylor's version) [from the ...</td>\n",
       "    </tr>\n",
       "    <tr>\n",
       "      <th>98</th>\n",
       "      <td>oingo boingo</td>\n",
       "      <td>dead man's party</td>\n",
       "    </tr>\n",
       "    <tr>\n",
       "      <th>99</th>\n",
       "      <td>ed sheeran</td>\n",
       "      <td>shivers</td>\n",
       "    </tr>\n",
       "  </tbody>\n",
       "</table>\n",
       "<p>100 rows × 2 columns</p>\n",
       "</div>"
      ],
      "text/plain": [
       "                       artist  \\\n",
       "0                         dax   \n",
       "1              ray parker jr.   \n",
       "2             michael jackson   \n",
       "3   the citizens of halloween   \n",
       "4                paul russell   \n",
       "..                        ...   \n",
       "95   noah kahan & post malone   \n",
       "96          elevation worship   \n",
       "97               taylor swift   \n",
       "98               oingo boingo   \n",
       "99                 ed sheeran   \n",
       "\n",
       "                                                track  \n",
       "0                   to be a man (feat. darius rucker)  \n",
       "1                                        ghostbusters  \n",
       "2                                            thriller  \n",
       "3                                   this is halloween  \n",
       "4                                       lil boo thang  \n",
       "..                                                ...  \n",
       "95                                         dial drunk  \n",
       "96  praise (feat. brandon lake, chris brown & chan...  \n",
       "97  suburban legends (taylor's version) [from the ...  \n",
       "98                                   dead man's party  \n",
       "99                                            shivers  \n",
       "\n",
       "[100 rows x 2 columns]"
      ]
     },
     "execution_count": 6,
     "metadata": {},
     "output_type": "execute_result"
    }
   ],
   "source": [
    "currenttop100"
   ]
  },
  {
   "cell_type": "markdown",
   "id": "7642e4df",
   "metadata": {},
   "source": [
    " "
   ]
  },
  {
   "cell_type": "markdown",
   "id": "ef955202",
   "metadata": {},
   "source": [
    "## Scraping Billboard's all time top 100 songs"
   ]
  },
  {
   "cell_type": "markdown",
   "id": "18514600",
   "metadata": {},
   "source": [
    "Now we will scrape the all time top 100 songs."
   ]
  },
  {
   "cell_type": "code",
   "execution_count": 7,
   "id": "b138f486",
   "metadata": {},
   "outputs": [],
   "source": [
    "#determine url\n",
    "urls = \"https://www.billboard.com/charts/greatest-hot-100-singles/\""
   ]
  },
  {
   "cell_type": "code",
   "execution_count": 8,
   "id": "d7dc718b",
   "metadata": {},
   "outputs": [
    {
     "data": {
      "text/plain": [
       "200"
      ]
     },
     "execution_count": 8,
     "metadata": {},
     "output_type": "execute_result"
    }
   ],
   "source": [
    "responses = requests.get(urls)\n",
    "responses.status_code"
   ]
  },
  {
   "cell_type": "code",
   "execution_count": 9,
   "id": "dbd09add",
   "metadata": {},
   "outputs": [],
   "source": [
    "#parse html content using beautiful soup. \n",
    "soups = BeautifulSoup(responses.content, \"html.parser\")"
   ]
  },
  {
   "cell_type": "markdown",
   "id": "b704037e",
   "metadata": {},
   "source": [
    " "
   ]
  },
  {
   "cell_type": "markdown",
   "id": "c574a338",
   "metadata": {},
   "source": [
    "**Extract the songs and artists from the webpage**"
   ]
  },
  {
   "cell_type": "code",
   "execution_count": 10,
   "id": "9fe92d75",
   "metadata": {},
   "outputs": [],
   "source": [
    "songs = []\n",
    "artists = []\n",
    "for i in range(len(soups.select(\"body > div:nth-child(6) > main > div:nth-child(3) > div:nth-child(2) > div > div > div > div > ul > li:nth-child(3) > ul > li > span\"))):\n",
    "    artists.append(soups.select(\"body > div:nth-child(6) > main > div:nth-child(3) > div:nth-child(2) > div > div > div > div > ul > li:nth-child(3) > ul > li > span\")[i].get_text().strip().lower())\n",
    "    songs.append(soups.select(\"body > div:nth-child(6) > main > div:nth-child(3) > div:nth-child(2) > div > div > div > div > ul > li:nth-child(3) > ul > li > h3\")[i].get_text().strip().lower())\n",
    "    \n",
    "    \n",
    "#Attribute the lists to a dataframe\n",
    "alltimetop100 = pd.DataFrame({'artist':artists,'track':songs})"
   ]
  },
  {
   "cell_type": "code",
   "execution_count": 11,
   "id": "d44da8a0",
   "metadata": {},
   "outputs": [
    {
     "data": {
      "text/html": [
       "<div>\n",
       "<style scoped>\n",
       "    .dataframe tbody tr th:only-of-type {\n",
       "        vertical-align: middle;\n",
       "    }\n",
       "\n",
       "    .dataframe tbody tr th {\n",
       "        vertical-align: top;\n",
       "    }\n",
       "\n",
       "    .dataframe thead th {\n",
       "        text-align: right;\n",
       "    }\n",
       "</style>\n",
       "<table border=\"1\" class=\"dataframe\">\n",
       "  <thead>\n",
       "    <tr style=\"text-align: right;\">\n",
       "      <th></th>\n",
       "      <th>artist</th>\n",
       "      <th>track</th>\n",
       "    </tr>\n",
       "  </thead>\n",
       "  <tbody>\n",
       "    <tr>\n",
       "      <th>0</th>\n",
       "      <td>the weeknd</td>\n",
       "      <td>blinding lights</td>\n",
       "    </tr>\n",
       "    <tr>\n",
       "      <th>1</th>\n",
       "      <td>chubby checker</td>\n",
       "      <td>the twist</td>\n",
       "    </tr>\n",
       "    <tr>\n",
       "      <th>2</th>\n",
       "      <td>santana featuring rob thomas</td>\n",
       "      <td>smooth</td>\n",
       "    </tr>\n",
       "    <tr>\n",
       "      <th>3</th>\n",
       "      <td>bobby darin</td>\n",
       "      <td>mack the knife</td>\n",
       "    </tr>\n",
       "    <tr>\n",
       "      <th>4</th>\n",
       "      <td>mark ronson featuring bruno mars</td>\n",
       "      <td>uptown funk!</td>\n",
       "    </tr>\n",
       "    <tr>\n",
       "      <th>...</th>\n",
       "      <td>...</td>\n",
       "      <td>...</td>\n",
       "    </tr>\n",
       "    <tr>\n",
       "      <th>95</th>\n",
       "      <td>donna summer</td>\n",
       "      <td>hot stuff</td>\n",
       "    </tr>\n",
       "    <tr>\n",
       "      <th>96</th>\n",
       "      <td>post malone featuring 21 savage</td>\n",
       "      <td>rockstar</td>\n",
       "    </tr>\n",
       "    <tr>\n",
       "      <th>97</th>\n",
       "      <td>coolio featuring l.v.</td>\n",
       "      <td>gangsta's paradise</td>\n",
       "    </tr>\n",
       "    <tr>\n",
       "      <th>98</th>\n",
       "      <td>the steve miller band</td>\n",
       "      <td>abracadabra</td>\n",
       "    </tr>\n",
       "    <tr>\n",
       "      <th>99</th>\n",
       "      <td>carly simon</td>\n",
       "      <td>you're so vain</td>\n",
       "    </tr>\n",
       "  </tbody>\n",
       "</table>\n",
       "<p>100 rows × 2 columns</p>\n",
       "</div>"
      ],
      "text/plain": [
       "                              artist               track\n",
       "0                         the weeknd     blinding lights\n",
       "1                     chubby checker           the twist\n",
       "2       santana featuring rob thomas              smooth\n",
       "3                        bobby darin      mack the knife\n",
       "4   mark ronson featuring bruno mars        uptown funk!\n",
       "..                               ...                 ...\n",
       "95                      donna summer           hot stuff\n",
       "96   post malone featuring 21 savage            rockstar\n",
       "97             coolio featuring l.v.  gangsta's paradise\n",
       "98             the steve miller band         abracadabra\n",
       "99                       carly simon      you're so vain\n",
       "\n",
       "[100 rows x 2 columns]"
      ]
     },
     "execution_count": 11,
     "metadata": {},
     "output_type": "execute_result"
    }
   ],
   "source": [
    "alltimetop100"
   ]
  },
  {
   "cell_type": "markdown",
   "id": "a452e122",
   "metadata": {},
   "source": [
    " "
   ]
  },
  {
   "cell_type": "markdown",
   "id": "5f9e5ade",
   "metadata": {},
   "source": [
    "## Concatenate the dataframes and export to csv"
   ]
  },
  {
   "cell_type": "code",
   "execution_count": 12,
   "id": "ed30cf07",
   "metadata": {},
   "outputs": [],
   "source": [
    "hot_tracks = pd.concat([currenttop100,alltimetop100], axis = 0)"
   ]
  },
  {
   "cell_type": "code",
   "execution_count": 13,
   "id": "36e28ac3",
   "metadata": {},
   "outputs": [
    {
     "data": {
      "text/html": [
       "<div>\n",
       "<style scoped>\n",
       "    .dataframe tbody tr th:only-of-type {\n",
       "        vertical-align: middle;\n",
       "    }\n",
       "\n",
       "    .dataframe tbody tr th {\n",
       "        vertical-align: top;\n",
       "    }\n",
       "\n",
       "    .dataframe thead th {\n",
       "        text-align: right;\n",
       "    }\n",
       "</style>\n",
       "<table border=\"1\" class=\"dataframe\">\n",
       "  <thead>\n",
       "    <tr style=\"text-align: right;\">\n",
       "      <th></th>\n",
       "      <th>artist</th>\n",
       "      <th>track</th>\n",
       "    </tr>\n",
       "  </thead>\n",
       "  <tbody>\n",
       "    <tr>\n",
       "      <th>0</th>\n",
       "      <td>dax</td>\n",
       "      <td>to be a man (feat. darius rucker)</td>\n",
       "    </tr>\n",
       "    <tr>\n",
       "      <th>1</th>\n",
       "      <td>ray parker jr.</td>\n",
       "      <td>ghostbusters</td>\n",
       "    </tr>\n",
       "    <tr>\n",
       "      <th>2</th>\n",
       "      <td>michael jackson</td>\n",
       "      <td>thriller</td>\n",
       "    </tr>\n",
       "    <tr>\n",
       "      <th>3</th>\n",
       "      <td>the citizens of halloween</td>\n",
       "      <td>this is halloween</td>\n",
       "    </tr>\n",
       "    <tr>\n",
       "      <th>4</th>\n",
       "      <td>paul russell</td>\n",
       "      <td>lil boo thang</td>\n",
       "    </tr>\n",
       "    <tr>\n",
       "      <th>...</th>\n",
       "      <td>...</td>\n",
       "      <td>...</td>\n",
       "    </tr>\n",
       "    <tr>\n",
       "      <th>95</th>\n",
       "      <td>donna summer</td>\n",
       "      <td>hot stuff</td>\n",
       "    </tr>\n",
       "    <tr>\n",
       "      <th>96</th>\n",
       "      <td>post malone featuring 21 savage</td>\n",
       "      <td>rockstar</td>\n",
       "    </tr>\n",
       "    <tr>\n",
       "      <th>97</th>\n",
       "      <td>coolio featuring l.v.</td>\n",
       "      <td>gangsta's paradise</td>\n",
       "    </tr>\n",
       "    <tr>\n",
       "      <th>98</th>\n",
       "      <td>the steve miller band</td>\n",
       "      <td>abracadabra</td>\n",
       "    </tr>\n",
       "    <tr>\n",
       "      <th>99</th>\n",
       "      <td>carly simon</td>\n",
       "      <td>you're so vain</td>\n",
       "    </tr>\n",
       "  </tbody>\n",
       "</table>\n",
       "<p>200 rows × 2 columns</p>\n",
       "</div>"
      ],
      "text/plain": [
       "                             artist                              track\n",
       "0                               dax  to be a man (feat. darius rucker)\n",
       "1                    ray parker jr.                       ghostbusters\n",
       "2                   michael jackson                           thriller\n",
       "3         the citizens of halloween                  this is halloween\n",
       "4                      paul russell                      lil boo thang\n",
       "..                              ...                                ...\n",
       "95                     donna summer                          hot stuff\n",
       "96  post malone featuring 21 savage                           rockstar\n",
       "97            coolio featuring l.v.                 gangsta's paradise\n",
       "98            the steve miller band                        abracadabra\n",
       "99                      carly simon                     you're so vain\n",
       "\n",
       "[200 rows x 2 columns]"
      ]
     },
     "execution_count": 13,
     "metadata": {},
     "output_type": "execute_result"
    }
   ],
   "source": [
    "hot_tracks"
   ]
  },
  {
   "cell_type": "markdown",
   "id": "dea51cf6",
   "metadata": {},
   "source": [
    "**export to csv**"
   ]
  },
  {
   "cell_type": "code",
   "execution_count": 14,
   "id": "cf3fd4d7",
   "metadata": {},
   "outputs": [],
   "source": [
    "hot_tracks.to_csv('top.csv', index = False)"
   ]
  },
  {
   "cell_type": "code",
   "execution_count": null,
   "id": "5840c596",
   "metadata": {},
   "outputs": [],
   "source": []
  }
 ],
 "metadata": {
  "kernelspec": {
   "display_name": "Python 3 (ipykernel)",
   "language": "python",
   "name": "python3"
  },
  "language_info": {
   "codemirror_mode": {
    "name": "ipython",
    "version": 3
   },
   "file_extension": ".py",
   "mimetype": "text/x-python",
   "name": "python",
   "nbconvert_exporter": "python",
   "pygments_lexer": "ipython3",
   "version": "3.9.7"
  }
 },
 "nbformat": 4,
 "nbformat_minor": 5
}
